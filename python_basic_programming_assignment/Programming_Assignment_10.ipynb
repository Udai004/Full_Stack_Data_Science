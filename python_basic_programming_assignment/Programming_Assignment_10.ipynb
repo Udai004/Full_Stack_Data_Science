{
 "cells": [
  {
   "cell_type": "markdown",
   "id": "cf12ef1e",
   "metadata": {},
   "source": [
    "1. Write a Python program to find sum of elements in list?\n",
    "2. Write a Python program to Multiply all numbers in the list?\n",
    "3. Write a Python program to find smallest number in a list?\n",
    "4. Write a Python program to find largest number in a list?\n",
    "5. Write a Python program to find second largest number in a list?\n",
    "6. Write a Python program to find N largest elements from a list?\n",
    "7. Write a Python program to print even numbers in a list?\n",
    "8. Write a Python program to print odd numbers in a List?\n",
    "9. Write a Python program to Remove empty List from List?\n",
    "10. Write a Python program to Cloning or Copying a list?\n",
    "11. Write a Python program to Count occurrences of an element in a list?"
   ]
  },
  {
   "cell_type": "code",
   "execution_count": 1,
   "id": "0f5697b0",
   "metadata": {},
   "outputs": [
    {
     "name": "stdout",
     "output_type": "stream",
     "text": [
      "eneter integer numbers with space : 2 3 4  6 7 88\n",
      "110\n"
     ]
    }
   ],
   "source": [
    "#1\n",
    "inplist = input('Enter integer numbers with space : ').split()\n",
    "sum = 0\n",
    "for i in inplist:\n",
    "    sum = sum+int(i)\n",
    "print(sum)"
   ]
  },
  {
   "cell_type": "code",
   "execution_count": 12,
   "id": "c5e8203d",
   "metadata": {},
   "outputs": [
    {
     "name": "stdout",
     "output_type": "stream",
     "text": [
      "eneter integer numbers with space : 2 3 4  6 7 88\n",
      "88704\n"
     ]
    }
   ],
   "source": [
    "#2\n",
    "inplist = input('Enter integer numbers with space : ').split()\n",
    "mul = 1\n",
    "for i in inplist:\n",
    "    mul = mul*int(i)\n",
    "print(mul)"
   ]
  },
  {
   "cell_type": "code",
   "execution_count": 26,
   "id": "5eaa01f8",
   "metadata": {},
   "outputs": [
    {
     "name": "stdout",
     "output_type": "stream",
     "text": [
      "Enter integer numbers with space : 2 3 4  6 7 88 -1 -12 -4\n",
      "\n",
      " smallest number in the given list : ['2', '3', '4', '6', '7', '88', '-1', '-12', '-4'] is -12 \n"
     ]
    }
   ],
   "source": [
    "#3\n",
    "lst = input('Enter integer numbers with space : ').split()\n",
    "small_num = 0\n",
    "for i in lst:\n",
    "    if int(i) < int(small_num):\n",
    "        small_num = int(i)\n",
    "print(f'\\n smallest number in the given list : {lst} is {small_num} ')"
   ]
  },
  {
   "cell_type": "code",
   "execution_count": 27,
   "id": "40bb0ce4",
   "metadata": {},
   "outputs": [
    {
     "name": "stdout",
     "output_type": "stream",
     "text": [
      "Enter integer numbers with space : 2 3 4  6 7 88 -1 -12 -4\n",
      "\n",
      " Largest number in the given list : ['2', '3', '4', '6', '7', '88', '-1', '-12', '-4'] is 88 \n"
     ]
    }
   ],
   "source": [
    "#4\n",
    "lst = input('Enter integer numbers with space : ').split()\n",
    "small_num = 0\n",
    "for i in lst:\n",
    "    if int(i) > int(small_num):\n",
    "        small_num = int(i)\n",
    "print(f'\\n Largest number in the given list : {lst} is {small_num} ')"
   ]
  },
  {
   "cell_type": "code",
   "execution_count": 28,
   "id": "c8fad3d0",
   "metadata": {},
   "outputs": [
    {
     "name": "stdout",
     "output_type": "stream",
     "text": [
      "Enter integer numbers with space : 2 3 4  6 7 88 -1 -12 -4\n",
      "\n",
      " Second Largest number is:  7\n"
     ]
    }
   ],
   "source": [
    "#5\n",
    "inplist = input('Enter integer numbers with space : ').split()\n",
    "inplist = [int(i) for i in inplist]\n",
    "sortedInpList = sorted(inplist)\n",
    "print('\\n Second Largest number is: ',sortedInpList[-2])"
   ]
  },
  {
   "cell_type": "code",
   "execution_count": 31,
   "id": "0238a1ec",
   "metadata": {},
   "outputs": [
    {
     "name": "stdout",
     "output_type": "stream",
     "text": [
      "Enter integer numbers with space : 2 3 4  6 7 88 -1 -12 -4 100 6 9 8 55\n",
      "nth largest number to display: 7\n",
      "largest number at position 7 is 6 \n"
     ]
    }
   ],
   "source": [
    "#6\n",
    "inplist = input('Enter integer numbers with space : ').split()\n",
    "inplist = [int(i) for i in inplist]\n",
    "sortedInpList = sorted(inplist)\n",
    "nth = int(input('nth largest number to display: '))\n",
    "print('largest number at position {} is {} '.format(nth,sortedInpList[-nth]))"
   ]
  },
  {
   "cell_type": "code",
   "execution_count": 33,
   "id": "2f270871",
   "metadata": {},
   "outputs": [
    {
     "name": "stdout",
     "output_type": "stream",
     "text": [
      "Enter integer numbers with space : 2 3 4  6 7 88 -1 -12 -4 100 6 9 8 55 3\n",
      "Even numbers in the given list [2, 3, 4, 6, 7, 88, -1, -12, -4, 100, 6, 9, 8, 55, 3] is [2, 4, 6, 88, -12, -4, 100, 6, 8]\n"
     ]
    }
   ],
   "source": [
    "#7\n",
    "inplist = input('Enter integer numbers with space : ').split()\n",
    "inplist = [int(i) for i in inplist]\n",
    "even_num = []\n",
    "for i in inplist:\n",
    "    if float(i)%2 == 0 :\n",
    "        even_num.append(i)\n",
    "print(f'Even numbers in the given list {inplist} is {even_num}')"
   ]
  },
  {
   "cell_type": "code",
   "execution_count": 34,
   "id": "3b1059a7",
   "metadata": {},
   "outputs": [
    {
     "name": "stdout",
     "output_type": "stream",
     "text": [
      "Enter integer numbers with space : 2 3 4  6 7 88 -1 -12 -4 100 6 9 8 55 3\n",
      "Even numbers in the given list [2, 3, 4, 6, 7, 88, -1, -12, -4, 100, 6, 9, 8, 55, 3] is [3, 7, -1, 9, 55, 3]\n"
     ]
    }
   ],
   "source": [
    "#8\n",
    "\n",
    "inplist = input('Enter integer numbers with space : ').split()\n",
    "inplist = [int(i) for i in inplist]\n",
    "even_num = []\n",
    "for i in inplist:\n",
    "    if float(i)%2 != 0 :\n",
    "        even_num.append(i)\n",
    "print(f'Even numbers in the given list {inplist} is {even_num}')"
   ]
  },
  {
   "cell_type": "code",
   "execution_count": 35,
   "id": "3416351a",
   "metadata": {},
   "outputs": [
    {
     "name": "stdout",
     "output_type": "stream",
     "text": [
      "The original list is : [5, 6, [], 3, [], [], 9]\n",
      "List after empty list removal : [5, 6, 3, 9]\n"
     ]
    }
   ],
   "source": [
    "#9\n",
    "test_list = [5, 6, [], 3, [], [], 9]\n",
    "  \n",
    "# printing original list \n",
    "print(\"The original list is : \" + str(test_list))\n",
    "  \n",
    "# Remove empty List from List\n",
    "# using list comprehension\n",
    "res = [ele for ele in test_list if ele != []]\n",
    "  \n",
    "# printing result \n",
    "print (\"List after empty list removal : \" + str(res))"
   ]
  },
  {
   "cell_type": "code",
   "execution_count": 36,
   "id": "d5cd276a",
   "metadata": {},
   "outputs": [
    {
     "name": "stdout",
     "output_type": "stream",
     "text": [
      "original list:  ['uday', 1, 3, 'abc12', [1, 2, 3], [], {'a': 1, 'b': 2}]\n",
      "cloned list:  ['uday', 1, 3, 'abc12', [1, 2, 3], [], {'a': 1, 'b': 2}]\n"
     ]
    }
   ],
   "source": [
    "#10\n",
    "exList = ['uday', 1, 3, 'abc12',[1,2,3],[],{'a':1,'b':2}]\n",
    "newlist = list(exList)\n",
    "print('original list: ',exList)\n",
    "print('cloned list: ',newlist)"
   ]
  },
  {
   "cell_type": "code",
   "execution_count": 38,
   "id": "d6372403",
   "metadata": {},
   "outputs": [
    {
     "name": "stdout",
     "output_type": "stream",
     "text": [
      "occurance of uday in the list is : 3 \n",
      "occurance of 1 in the list is : 1 \n",
      "occurance of 3 in the list is : 3 \n",
      "occurance of 4 in the list is : 2 \n",
      "occurance of abc12 in the list is : 1 \n",
      "occurance of [1, 2, 3] in the list is : 2 \n",
      "occurance of [] in the list is : 1 \n",
      "occurance of {'a': 1, 'b': 2} in the list is : 1 \n"
     ]
    }
   ],
   "source": [
    "#11\n",
    "exList = ['uday', 1, 3,3,3,4,4,'uday','uday', 'abc12',[1,2,3],[1,2,3],[],{'a':1,'b':2}]\n",
    "exList_unique = []\n",
    "for item in exList:\n",
    "    if item not in exList_unique:\n",
    "        exList_unique.append(item)\n",
    "for item in exList_unique:\n",
    "    print('occurance of {} in the list is : {} '.format(item,exList.count(item)))"
   ]
  },
  {
   "cell_type": "code",
   "execution_count": null,
   "id": "70ba320d",
   "metadata": {},
   "outputs": [],
   "source": []
  },
  {
   "cell_type": "code",
   "execution_count": null,
   "id": "45a4af51",
   "metadata": {},
   "outputs": [],
   "source": []
  },
  {
   "cell_type": "code",
   "execution_count": null,
   "id": "b3bc4205",
   "metadata": {},
   "outputs": [],
   "source": []
  },
  {
   "cell_type": "code",
   "execution_count": null,
   "id": "121e382c",
   "metadata": {},
   "outputs": [],
   "source": []
  }
 ],
 "metadata": {
  "kernelspec": {
   "display_name": "Python 3",
   "language": "python",
   "name": "python3"
  },
  "language_info": {
   "codemirror_mode": {
    "name": "ipython",
    "version": 3
   },
   "file_extension": ".py",
   "mimetype": "text/x-python",
   "name": "python",
   "nbconvert_exporter": "python",
   "pygments_lexer": "ipython3",
   "version": "3.8.5"
  },
  "varInspector": {
   "cols": {
    "lenName": 16,
    "lenType": 16,
    "lenVar": 40
   },
   "kernels_config": {
    "python": {
     "delete_cmd_postfix": "",
     "delete_cmd_prefix": "del ",
     "library": "var_list.py",
     "varRefreshCmd": "print(var_dic_list())"
    },
    "r": {
     "delete_cmd_postfix": ") ",
     "delete_cmd_prefix": "rm(",
     "library": "var_list.r",
     "varRefreshCmd": "cat(var_dic_list()) "
    }
   },
   "types_to_exclude": [
    "module",
    "function",
    "builtin_function_or_method",
    "instance",
    "_Feature"
   ],
   "window_display": false
  }
 },
 "nbformat": 4,
 "nbformat_minor": 5
}
