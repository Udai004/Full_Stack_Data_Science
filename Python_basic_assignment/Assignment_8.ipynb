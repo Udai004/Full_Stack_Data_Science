{
 "cells": [
  {
   "cell_type": "markdown",
   "id": "656f3400",
   "metadata": {},
   "source": [
    "1. Is the Python Standard Library included with PyInputPlus?\n",
    "2. Why is PyInputPlus commonly imported with import pyinputplus as pypi?\n",
    "3. How do you distinguish between inputInt() and inputFloat()?\n",
    "4. Using PyInputPlus, how do you ensure that the user enters a whole number between 0 and 99?\n",
    "5. What is transferred to the keyword arguments allowRegexes and blockRegexes?\n",
    "6. If a blank input is entered three times, what does inputStr(limit=3) do?\n",
    "7. If blank input is entered three times, what does inputStr(limit=3, default='hello') do?"
   ]
  },
  {
   "cell_type": "code",
   "execution_count": 12,
   "id": "b99f78d0",
   "metadata": {},
   "outputs": [],
   "source": [
    "# Question 1 Answer\n",
    "# python doesnot have PyInputPlus in it as standard library . We need install as a seperate package\n",
    "# using pip install PyInputPlus\n",
    "# after installing  pyinputplus, tried importing and it worked\n",
    "import pyinputplus"
   ]
  },
  {
   "cell_type": "code",
   "execution_count": 13,
   "id": "d6d5cedb",
   "metadata": {},
   "outputs": [],
   "source": [
    "# Question 2 Answer\n",
    "# You can import the module with import pyinputplus as pyip\n",
    "#so that you can enter a shorter name when calling the module's functions. \n",
    "#PyInputPlus has functions for entering a variety of input, including strings, \n",
    "#numbers, dates, yes/no, True/False, emails, and files."
   ]
  },
  {
   "cell_type": "code",
   "execution_count": 19,
   "id": "e043bcce",
   "metadata": {},
   "outputs": [
    {
     "name": "stdout",
     "output_type": "stream",
     "text": [
      "39304.242\n",
      "'39304.242' is not an integer.\n",
      "5.0\n"
     ]
    },
    {
     "data": {
      "text/plain": [
       "5"
      ]
     },
     "execution_count": 19,
     "metadata": {},
     "output_type": "execute_result"
    }
   ],
   "source": [
    "## Question 3 Answer\n",
    "## inputInt() always checks whether input is integer value or not.\n",
    "# in below example when we give '39304.29' we got output as '39304.242' is not an integer.\n",
    "#But when we enter 5.0 as input , it is considered as integer as 0 is negotiated.\n",
    "\n",
    "pyinputplus.inputInt()"
   ]
  },
  {
   "cell_type": "code",
   "execution_count": 18,
   "id": "af7a95dc",
   "metadata": {},
   "outputs": [
    {
     "name": "stdout",
     "output_type": "stream",
     "text": [
      "5.390\n"
     ]
    },
    {
     "data": {
      "text/plain": [
       "5.39"
      ]
     },
     "execution_count": 18,
     "metadata": {},
     "output_type": "execute_result"
    }
   ],
   "source": [
    "## for inputFloat(), if we give input as 5, it changes value to 5.0 (float).\n",
    "\n",
    "pyinputplus.inputFloat()"
   ]
  },
  {
   "cell_type": "code",
   "execution_count": 21,
   "id": "223c114b",
   "metadata": {},
   "outputs": [
    {
     "name": "stdout",
     "output_type": "stream",
     "text": [
      "Enter the number: 33.33\n",
      "'33.33' is not an integer.\n",
      "Enter the number: 100\n",
      "Number must be at maximum 99.\n",
      "Enter the number: -1\n",
      "Number must be at minimum 0.\n",
      "Enter the number: 66\n"
     ]
    },
    {
     "data": {
      "text/plain": [
       "66"
      ]
     },
     "execution_count": 21,
     "metadata": {},
     "output_type": "execute_result"
    }
   ],
   "source": [
    "# Question 4 Answer\n",
    "#whole number : The set of familiar numbers (0, 1, 2, 3, 4, and so on) sometimes called natural numbers \n",
    "# or counting numbers. When they are called counting numbers, zero is not included.\n",
    "\n",
    "## below input is given as 33.33 , which is not whole number and which is between 0 to 99. But gave\n",
    "# error as '33.33' is not an integer.\n",
    "## When input is given as 100 or -1, it has validated both.\n",
    "## when input is given as 66 , we got output as 66 bcs its integer and whole number b/w 0 and 99.\n",
    "## so we didnt get any error when we gave value as 66.\n",
    "\n",
    "\n",
    "pyinputplus.inputInt(prompt='Enter the number: ' , min= 0 , max= 99)\n"
   ]
  },
  {
   "cell_type": "markdown",
   "id": "67c5c34d",
   "metadata": {},
   "source": [
    "## Question 5:\n",
    "You can also use regular expressions to specify whether an input is allowed\n",
    "or not. The allowRegexes and blockRegexes keyword arguments take a list of\n",
    "regular expression strings to determine what the PyInputPlus function will\n",
    "accept or reject as valid input. For example, enter the following code into\n",
    "the interactive shell so that inputNum() will accept Roman numerals in addition to the usual numbers:"
   ]
  },
  {
   "cell_type": "code",
   "execution_count": 22,
   "id": "3dd08a0e",
   "metadata": {},
   "outputs": [
    {
     "name": "stdout",
     "output_type": "stream",
     "text": [
      "XLII\n"
     ]
    },
    {
     "data": {
      "text/plain": [
       "'XLII'"
      ]
     },
     "execution_count": 22,
     "metadata": {},
     "output_type": "execute_result"
    }
   ],
   "source": [
    "import pyinputplus as pyip\n",
    "response = pyip.inputNum(allowRegexes=[r'(I|V|X|L|C|D|M)+', r'zero'])\n",
    "response"
   ]
  },
  {
   "cell_type": "code",
   "execution_count": 23,
   "id": "7854371d",
   "metadata": {},
   "outputs": [
    {
     "name": "stdout",
     "output_type": "stream",
     "text": [
      "xlii\n"
     ]
    },
    {
     "data": {
      "text/plain": [
       "'xlii'"
      ]
     },
     "execution_count": 23,
     "metadata": {},
     "output_type": "execute_result"
    }
   ],
   "source": [
    "response = pyip.inputNum(allowRegexes=[r'(i|v|x|l|c|d|m)+', r'zero'])\n",
    "response"
   ]
  },
  {
   "cell_type": "markdown",
   "id": "09fd8052",
   "metadata": {},
   "source": [
    "Of course, this regex affects only what letters the inputNum() function\n",
    "will accept from the user; the function will still accept Roman numerals\n",
    "with invalid ordering such as 'XVX' or 'MILLI' because the r'(I|V|X|L|C|D|M)+'\n",
    "regular expression accepts those strings.\n",
    "You can also specify a list of regular expression strings that a PyInputPlus\n",
    "function won’t accept by using the blockRegexes keyword argument. Enter\n",
    "the following into the interactive shell so that inputNum() won’t accept even\n",
    "numbers:\n"
   ]
  },
  {
   "cell_type": "code",
   "execution_count": 24,
   "id": "f4730531",
   "metadata": {},
   "outputs": [
    {
     "name": "stdout",
     "output_type": "stream",
     "text": [
      "42\n",
      "This response is invalid.\n",
      "193\n"
     ]
    }
   ],
   "source": [
    "import pyinputplus as pyip\n",
    "response = pyip.inputNum(blockRegexes=[r'[02468]$'])"
   ]
  },
  {
   "cell_type": "code",
   "execution_count": 26,
   "id": "c5f860f2",
   "metadata": {},
   "outputs": [
    {
     "name": "stdout",
     "output_type": "stream",
     "text": [
      "\n",
      "Blank values are not allowed.\n",
      "\n",
      "Blank values are not allowed.\n",
      "\n",
      "Blank values are not allowed.\n"
     ]
    },
    {
     "ename": "RetryLimitException",
     "evalue": "",
     "output_type": "error",
     "traceback": [
      "\u001b[1;31m---------------------------------------------------------------------------\u001b[0m",
      "\u001b[1;31mValidationException\u001b[0m                       Traceback (most recent call last)",
      "\u001b[1;32m~\\anaconda3\\lib\\site-packages\\pyinputplus\\__init__.py\u001b[0m in \u001b[0;36m_genericInput\u001b[1;34m(prompt, default, timeout, limit, applyFunc, validationFunc, postValidateApplyFunc, passwordMask)\u001b[0m\n",
      "\u001b[1;32m~\\anaconda3\\lib\\site-packages\\pyinputplus\\__init__.py\u001b[0m in \u001b[0;36m<lambda>\u001b[1;34m(value)\u001b[0m\n",
      "\u001b[1;32m~\\anaconda3\\lib\\site-packages\\pysimplevalidate\\__init__.py\u001b[0m in \u001b[0;36m_prevalidationCheck\u001b[1;34m(value, blank, strip, allowRegexes, blockRegexes, excMsg)\u001b[0m\n\u001b[0;32m    249\u001b[0m         \u001b[1;31m# value is blank but blanks aren't allowed.\u001b[0m\u001b[1;33m\u001b[0m\u001b[1;33m\u001b[0m\u001b[1;33m\u001b[0m\u001b[0m\n\u001b[1;32m--> 250\u001b[1;33m         \u001b[0m_raiseValidationException\u001b[0m\u001b[1;33m(\u001b[0m\u001b[0m_\u001b[0m\u001b[1;33m(\u001b[0m\u001b[1;34m\"Blank values are not allowed.\"\u001b[0m\u001b[1;33m)\u001b[0m\u001b[1;33m,\u001b[0m \u001b[0mexcMsg\u001b[0m\u001b[1;33m)\u001b[0m\u001b[1;33m\u001b[0m\u001b[1;33m\u001b[0m\u001b[0m\n\u001b[0m\u001b[0;32m    251\u001b[0m     \u001b[1;32melif\u001b[0m \u001b[0mblank\u001b[0m \u001b[1;32mand\u001b[0m \u001b[0mvalue\u001b[0m \u001b[1;33m==\u001b[0m \u001b[1;34m\"\"\u001b[0m\u001b[1;33m:\u001b[0m\u001b[1;33m\u001b[0m\u001b[1;33m\u001b[0m\u001b[0m\n",
      "\u001b[1;32m~\\anaconda3\\lib\\site-packages\\pysimplevalidate\\__init__.py\u001b[0m in \u001b[0;36m_raiseValidationException\u001b[1;34m(standardExcMsg, customExcMsg)\u001b[0m\n\u001b[0;32m    221\u001b[0m     \u001b[1;32mif\u001b[0m \u001b[0mcustomExcMsg\u001b[0m \u001b[1;32mis\u001b[0m \u001b[1;32mNone\u001b[0m\u001b[1;33m:\u001b[0m\u001b[1;33m\u001b[0m\u001b[1;33m\u001b[0m\u001b[0m\n\u001b[1;32m--> 222\u001b[1;33m         \u001b[1;32mraise\u001b[0m \u001b[0mValidationException\u001b[0m\u001b[1;33m(\u001b[0m\u001b[0mstr\u001b[0m\u001b[1;33m(\u001b[0m\u001b[0mstandardExcMsg\u001b[0m\u001b[1;33m)\u001b[0m\u001b[1;33m)\u001b[0m\u001b[1;33m\u001b[0m\u001b[1;33m\u001b[0m\u001b[0m\n\u001b[0m\u001b[0;32m    223\u001b[0m     \u001b[1;32melse\u001b[0m\u001b[1;33m:\u001b[0m\u001b[1;33m\u001b[0m\u001b[1;33m\u001b[0m\u001b[0m\n",
      "\u001b[1;31mValidationException\u001b[0m: Blank values are not allowed.",
      "\nDuring handling of the above exception, another exception occurred:\n",
      "\u001b[1;31mRetryLimitException\u001b[0m                       Traceback (most recent call last)",
      "\u001b[1;32m<ipython-input-26-49050056c700>\u001b[0m in \u001b[0;36m<module>\u001b[1;34m\u001b[0m\n\u001b[0;32m      1\u001b[0m \u001b[1;31m# Question 6 answer\u001b[0m\u001b[1;33m\u001b[0m\u001b[1;33m\u001b[0m\u001b[1;33m\u001b[0m\u001b[0m\n\u001b[0;32m      2\u001b[0m \u001b[1;33m\u001b[0m\u001b[0m\n\u001b[1;32m----> 3\u001b[1;33m \u001b[0mpyinputplus\u001b[0m\u001b[1;33m.\u001b[0m\u001b[0minputStr\u001b[0m\u001b[1;33m(\u001b[0m\u001b[0mlimit\u001b[0m\u001b[1;33m=\u001b[0m\u001b[1;36m3\u001b[0m\u001b[1;33m)\u001b[0m\u001b[1;33m\u001b[0m\u001b[1;33m\u001b[0m\u001b[0m\n\u001b[0m",
      "\u001b[1;32m~\\anaconda3\\lib\\site-packages\\pyinputplus\\__init__.py\u001b[0m in \u001b[0;36minputStr\u001b[1;34m(prompt, default, blank, timeout, limit, strip, allowRegexes, blockRegexes, applyFunc, postValidateApplyFunc)\u001b[0m\n",
      "\u001b[1;32m~\\anaconda3\\lib\\site-packages\\pyinputplus\\__init__.py\u001b[0m in \u001b[0;36m_genericInput\u001b[1;34m(prompt, default, timeout, limit, applyFunc, validationFunc, postValidateApplyFunc, passwordMask)\u001b[0m\n",
      "\u001b[1;31mRetryLimitException\u001b[0m: "
     ]
    }
   ],
   "source": [
    "# Question 6 answer\n",
    "## when we tried giving blank input we are getting output as \"Blank values are not allowed.\" and later we got \n",
    "## limit exception error as shown in below example.\n",
    "pyinputplus.inputStr(limit=3) "
   ]
  },
  {
   "cell_type": "code",
   "execution_count": 27,
   "id": "8be42f84",
   "metadata": {},
   "outputs": [
    {
     "name": "stdout",
     "output_type": "stream",
     "text": [
      "\n",
      "Blank values are not allowed.\n",
      "\n",
      "Blank values are not allowed.\n",
      "\n",
      "Blank values are not allowed.\n"
     ]
    },
    {
     "data": {
      "text/plain": [
       "'hello'"
      ]
     },
     "execution_count": 27,
     "metadata": {},
     "output_type": "execute_result"
    }
   ],
   "source": [
    "#Question 7 answer\n",
    "## we had kept limit 3 , so it can aaccept 3 blank values and when it executes 4th time, by default,\n",
    "# it prints hello as shown below.\n",
    "pyinputplus.inputStr(limit=3, default='hello')"
   ]
  }
 ],
 "metadata": {
  "kernelspec": {
   "display_name": "Python 3",
   "language": "python",
   "name": "python3"
  },
  "language_info": {
   "codemirror_mode": {
    "name": "ipython",
    "version": 3
   },
   "file_extension": ".py",
   "mimetype": "text/x-python",
   "name": "python",
   "nbconvert_exporter": "python",
   "pygments_lexer": "ipython3",
   "version": "3.8.5"
  },
  "varInspector": {
   "cols": {
    "lenName": 16,
    "lenType": 16,
    "lenVar": 40
   },
   "kernels_config": {
    "python": {
     "delete_cmd_postfix": "",
     "delete_cmd_prefix": "del ",
     "library": "var_list.py",
     "varRefreshCmd": "print(var_dic_list())"
    },
    "r": {
     "delete_cmd_postfix": ") ",
     "delete_cmd_prefix": "rm(",
     "library": "var_list.r",
     "varRefreshCmd": "cat(var_dic_list()) "
    }
   },
   "types_to_exclude": [
    "module",
    "function",
    "builtin_function_or_method",
    "instance",
    "_Feature"
   ],
   "window_display": false
  }
 },
 "nbformat": 4,
 "nbformat_minor": 5
}
