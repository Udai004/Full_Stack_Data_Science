{
 "cells": [
  {
   "cell_type": "markdown",
   "id": "813686b2",
   "metadata": {},
   "source": [
    "1. What are escape characters, and how do you use them?\n",
    "2. What do the escape characters n and t stand for?\n",
    "3. What is the way to include backslash characters in a string?\n",
    "4. The string &quot;Howl's Moving Castle&quot; is a correct value. Why isn't the single quote character in the\n",
    "word Howl's not escaped a problem?\n",
    "5. How do you write a string of newlines if you don't want to use the n character?\n",
    "6. What are the values of the given expressions?\n",
    "'Hello, world!'[1]\n",
    "'Hello, world!'[0:5]\n",
    "'Hello, world!'[:5]\n",
    "'Hello, world!'[3:]\n",
    "\n",
    "7. What are the values of the following expressions?\n",
    "'Hello'.upper()\n",
    "'Hello'.upper().isupper()\n",
    "'Hello'.upper().lower()\n",
    "8. What are the values of the following expressions?\n",
    "'Remember, remember, the fifth of July.'.split()\n",
    "'-'.join('There can only one.'.split())\n",
    "9. What are the methods for right-justifying, left-justifying, and centering a string?\n",
    "10. What is the best way to remove whitespace characters from the start or end?"
   ]
  },
  {
   "cell_type": "markdown",
   "id": "1c1fba19",
   "metadata": {},
   "source": [
    "# Question 1 Answer\n",
    "# Answer : Escape characters represent characters in string values that would otherwise be difficult or impossible to type into code.\n",
    "    \n",
    "## Some of escape characters used in python    \n",
    "\\'\tSingle Quote\t\n",
    "\\\\\tBackslash\t\n",
    "\\n\tNew Line\t\n",
    "\\r\tCarriage Return\t\n",
    "\\t\tTab\t\n",
    "\\b\tBackspace\t\n",
    "\\f\tForm Feed\t\n",
    "\\ooo\tOctal value\t\n",
    "\\xhh"
   ]
  },
  {
   "cell_type": "markdown",
   "id": "89e954a4",
   "metadata": {},
   "source": [
    "# Question 2 answer\n",
    "\n",
    "##### \\n is for  New Line\n",
    "##### \\t is for Tab"
   ]
  },
  {
   "cell_type": "markdown",
   "id": "c9a61cd5",
   "metadata": {},
   "source": [
    "# Question 3 Answer\n",
    "## The \\\\\\ escape character will represent a backslash character.\n",
    "\n"
   ]
  },
  {
   "cell_type": "markdown",
   "id": "d680208e",
   "metadata": {},
   "source": [
    "# Question 4 Answer\n",
    "# The single quote in Howl's is fine because you’ve used double quotes to mark the beginning and end of the string."
   ]
  },
  {
   "cell_type": "markdown",
   "id": "de8de297",
   "metadata": {},
   "source": [
    "# Question 5 Answer\n",
    "\n",
    "# Multiline strings allow you to use newlines in strings without the \\n escape character."
   ]
  },
  {
   "cell_type": "markdown",
   "id": "5f34f321",
   "metadata": {},
   "source": [
    "# Question 6 Answer\n",
    "# The expressions evaluate to the following:\n",
    "\n",
    "'e'\n",
    "\n",
    "'Hello'\n",
    "\n",
    "'Hello'\n",
    "\n",
    "'lo world!"
   ]
  },
  {
   "cell_type": "markdown",
   "id": "24032b64",
   "metadata": {},
   "source": [
    "# Question 7 Answer\n",
    "# The expressions evaluate to the following:\n",
    "\n",
    "'HELLO'\n",
    "\n",
    "True\n",
    "\n",
    "'hello'"
   ]
  },
  {
   "cell_type": "markdown",
   "id": "075c359e",
   "metadata": {},
   "source": [
    "# Question 8 Answer\n",
    "# The expressions evaluate to the following:\n",
    "\n",
    "['Remember,', 'remember,', 'the', 'fifth', 'of', 'November.']\n",
    "\n",
    "'There-can-be-only-one.'"
   ]
  },
  {
   "cell_type": "markdown",
   "id": "b589d52a",
   "metadata": {},
   "source": [
    "# Question 9 Answer\n",
    "# The rjust(), ljust(), and center() string methods, respectively"
   ]
  },
  {
   "cell_type": "markdown",
   "id": "750e10f3",
   "metadata": {},
   "source": [
    "# Question 10 Answer\n",
    "# The lstrip() and rstrip() methods remove whitespace from the left and right ends of a string, respectively."
   ]
  },
  {
   "cell_type": "code",
   "execution_count": null,
   "id": "ab8541a1",
   "metadata": {},
   "outputs": [],
   "source": []
  },
  {
   "cell_type": "code",
   "execution_count": null,
   "id": "bd91328e",
   "metadata": {},
   "outputs": [],
   "source": []
  },
  {
   "cell_type": "code",
   "execution_count": null,
   "id": "dfce074f",
   "metadata": {},
   "outputs": [],
   "source": []
  },
  {
   "cell_type": "code",
   "execution_count": null,
   "id": "32e06abb",
   "metadata": {},
   "outputs": [],
   "source": []
  },
  {
   "cell_type": "code",
   "execution_count": null,
   "id": "5dc42163",
   "metadata": {},
   "outputs": [],
   "source": []
  },
  {
   "cell_type": "code",
   "execution_count": null,
   "id": "9dd9341a",
   "metadata": {},
   "outputs": [],
   "source": []
  },
  {
   "cell_type": "code",
   "execution_count": null,
   "id": "a9b6b4d4",
   "metadata": {},
   "outputs": [],
   "source": []
  },
  {
   "cell_type": "code",
   "execution_count": null,
   "id": "05450267",
   "metadata": {},
   "outputs": [],
   "source": []
  },
  {
   "cell_type": "code",
   "execution_count": null,
   "id": "e57bd638",
   "metadata": {},
   "outputs": [],
   "source": []
  }
 ],
 "metadata": {
  "kernelspec": {
   "display_name": "Python 3",
   "language": "python",
   "name": "python3"
  },
  "language_info": {
   "codemirror_mode": {
    "name": "ipython",
    "version": 3
   },
   "file_extension": ".py",
   "mimetype": "text/x-python",
   "name": "python",
   "nbconvert_exporter": "python",
   "pygments_lexer": "ipython3",
   "version": "3.8.5"
  },
  "varInspector": {
   "cols": {
    "lenName": 16,
    "lenType": 16,
    "lenVar": 40
   },
   "kernels_config": {
    "python": {
     "delete_cmd_postfix": "",
     "delete_cmd_prefix": "del ",
     "library": "var_list.py",
     "varRefreshCmd": "print(var_dic_list())"
    },
    "r": {
     "delete_cmd_postfix": ") ",
     "delete_cmd_prefix": "rm(",
     "library": "var_list.r",
     "varRefreshCmd": "cat(var_dic_list()) "
    }
   },
   "types_to_exclude": [
    "module",
    "function",
    "builtin_function_or_method",
    "instance",
    "_Feature"
   ],
   "window_display": false
  }
 },
 "nbformat": 4,
 "nbformat_minor": 5
}
