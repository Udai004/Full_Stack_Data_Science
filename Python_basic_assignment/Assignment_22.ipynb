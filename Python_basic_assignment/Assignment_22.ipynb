{
 "cells": [
  {
   "cell_type": "markdown",
   "id": "bb44143d",
   "metadata": {},
   "source": [
    "1. What is the result of the code, and explain?\n",
    "\n",
    ">>> X = &#39;iNeuron&#39;\n",
    ">>> def func():\n",
    "print(X)\n",
    "\n",
    ">>> func()\n",
    "\n",
    "2. What is the result of the code, and explain?\n",
    "\n",
    ">>> X = &#39;iNeuron&#39;\n",
    ">>> def func():\n",
    "X = &#39;NI!&#39;\n",
    "\n",
    ">>> func()\n",
    ">>> print(X)\n",
    "\n",
    "3. What does this code print, and why?\n",
    "\n",
    ">>> X = &#39;iNeuron&#39;\n",
    ">>> def func():\n",
    "X = &#39;NI&#39;\n",
    "print(X)\n",
    "\n",
    ">>> func()\n",
    ">>> print(X)\n",
    "\n",
    "4. What output does this code produce? Why?\n",
    "\n",
    ">>> X = &#39;iNeuron&#39;\n",
    ">>> def func():\n",
    "global X\n",
    "X = &#39;NI&#39;\n",
    "\n",
    ">>> func()\n",
    ">>> print(X)\n",
    "\n",
    "5. What about this code—what’s the output, and why?\n",
    "\n",
    ">>> X = &#39;iNeuron&#39;\n",
    ">>> def func():\n",
    "X = &#39;NI&#39;\n",
    "def nested():\n",
    "print(X)\n",
    "nested()\n",
    "\n",
    ">>> func()\n",
    ">>> X\n",
    "\n",
    "6. How about this code: what is its output in Python 3, and explain?\n",
    "\n",
    ">>> def func():\n",
    "X = &#39;NI&#39;\n",
    "def nested():\n",
    "nonlocal X\n",
    "X = &#39;Spam&#39;\n",
    "nested()\n",
    "print(X)\n",
    "\n",
    ">>> func()"
   ]
  },
  {
   "cell_type": "markdown",
   "id": "e8c066f8",
   "metadata": {},
   "source": [
    "# Answers\n"
   ]
  },
  {
   "cell_type": "code",
   "execution_count": 1,
   "id": "cf0ca8fb",
   "metadata": {},
   "outputs": [],
   "source": [
    "#1.\n",
    "#iNeuron is the result of this code because we have declared the iNeuron in variable X \n",
    "#and then called same variable in function so that it prints the iNeuron.\n"
   ]
  },
  {
   "cell_type": "code",
   "execution_count": 2,
   "id": "d6744476",
   "metadata": {},
   "outputs": [],
   "source": [
    "#2.\n",
    "#iNeuron is the result of this code because it prints the global variable as print(X) is called outside of defined function.\n"
   ]
  },
  {
   "cell_type": "code",
   "execution_count": 3,
   "id": "5cc3da91",
   "metadata": {},
   "outputs": [],
   "source": [
    "#3.\n",
    "#Here answer is NI & iNeuron both as each variable is called for print. \n",
    "# NI result is coming for print which is inside of the function as a local variable \n",
    "# and iNeuron is coming for print which is outside of the function as a global variable.\n"
   ]
  },
  {
   "cell_type": "code",
   "execution_count": 4,
   "id": "6f9eb1e4",
   "metadata": {},
   "outputs": [],
   "source": [
    "#4.\n",
    "# Here the result is NI because in function X is declared as a global variable \n",
    "# and hence on print statement it showing the result for global variable.\n"
   ]
  },
  {
   "cell_type": "code",
   "execution_count": 7,
   "id": "362f2f6f",
   "metadata": {},
   "outputs": [],
   "source": [
    "#5.\n",
    "# Process finished with exit code 0 getting this as output."
   ]
  },
  {
   "cell_type": "code",
   "execution_count": 8,
   "id": "edc24b10",
   "metadata": {},
   "outputs": [],
   "source": [
    "#6.\n",
    "# Process finished with exit code 0 getting this as output."
   ]
  }
 ],
 "metadata": {
  "kernelspec": {
   "display_name": "Python 3",
   "language": "python",
   "name": "python3"
  },
  "language_info": {
   "codemirror_mode": {
    "name": "ipython",
    "version": 3
   },
   "file_extension": ".py",
   "mimetype": "text/x-python",
   "name": "python",
   "nbconvert_exporter": "python",
   "pygments_lexer": "ipython3",
   "version": "3.8.5"
  },
  "varInspector": {
   "cols": {
    "lenName": 16,
    "lenType": 16,
    "lenVar": 40
   },
   "kernels_config": {
    "python": {
     "delete_cmd_postfix": "",
     "delete_cmd_prefix": "del ",
     "library": "var_list.py",
     "varRefreshCmd": "print(var_dic_list())"
    },
    "r": {
     "delete_cmd_postfix": ") ",
     "delete_cmd_prefix": "rm(",
     "library": "var_list.r",
     "varRefreshCmd": "cat(var_dic_list()) "
    }
   },
   "types_to_exclude": [
    "module",
    "function",
    "builtin_function_or_method",
    "instance",
    "_Feature"
   ],
   "window_display": false
  }
 },
 "nbformat": 4,
 "nbformat_minor": 5
}
