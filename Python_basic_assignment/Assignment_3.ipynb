{
 "cells": [
  {
   "cell_type": "markdown",
   "metadata": {},
   "source": [
    "## Python Assignment 2"
   ]
  },
  {
   "cell_type": "markdown",
   "metadata": {},
   "source": [
    "## Q1. Why are functions advantageous to have in your programs?\n",
    "\n",
    "### Ans:\n",
    "Functions reduce the need for duplicate code. This makes programs shorter, easier to read, and easier to update.\n",
    "\n",
    "## Q2. When does the code in a function run: when it's specified or when it's called?\n",
    "    \n",
    "### Ans:   \n",
    "The code in a function executes when the function is called, not when the function is defined.\n",
    "\n",
    "\n",
    "## Q3. What statement creates a function?\n",
    "\n",
    "### Ans: \n",
    "The def statement defines (that is, creates) a function.\n",
    "\n",
    "## Q4. What is the difference between a function and a function call?\n",
    "\n",
    "### Ans:    \n",
    "A function consists of the def statement and the code in its def clause.\n",
    "\n",
    "A function call is what moves the program execution into the function, and the function call evaluates to the function's return value.\n",
    "\n",
    "\n",
    "## Q5. How many global scopes are there in a Python program? How many local scopes?\n",
    "\n",
    "### Ans:    \n",
    "There is one global scope, and a local scope is created whenever a function is called.\n",
    "\n",
    "## Q6. What happens to variables in a local scope when the function call returns?\n",
    "\n",
    "### Ans:    \n",
    "When a function returns, the local scope is destroyed, and all the variables in it are forgotten.\n",
    "\n",
    "## Q7. What is the concept of a return value? Is it possible to have a return value in an expression?\n",
    "\n",
    "### Ans:    \n",
    "A return value is the value that a function call evaluates to. Like any value, a return value can be used as part of an expression.\n",
    "\n",
    "## Q8. If a function does not have a return statement, what is the return value of a call to that function?\n",
    "\n",
    "### Ans:    \n",
    "If there is no return statement for a function, its return value is None.\n",
    "\n",
    "## Q9. How do you make a function variable refer to the global variable?\n",
    "\n",
    "### Ans:    \n",
    "A global statement will force a variable in a function to refer to the global variable.\n",
    "\n",
    "## Q10. What is the data type of None?\n",
    "\n",
    "### Ans:    \n",
    "The data type of None is NoneType.\n",
    "\n",
    "## Q11. What does the sentence import areallyourpetsnamederic do?\n",
    "\n",
    "### Ans:    \n",
    "That import statement imports a module named areallyourpetsnamederic ( Assuming this is one of the custom module)\n",
    "\n",
    "## Q12. If you had a bacon() feature in a spam module, what would you call it after importing spam?\n",
    "\n",
    "### Ans:  \n",
    "This function can be called as follow: spam.bacon().\n",
    "\n",
    "\n",
    "## Q13. What can you do to save a programme from crashing if it encounters an error?\n",
    "\n",
    "### Ans:    \n",
    "We will place the line of code that might cause an error in a try clause.\n",
    "\n",
    "## Q14. What is the purpose of the try clause? What is the purpose of the except clause?\n",
    "\n",
    "### Ans:    \n",
    "\n",
    "The code that could potentially cause an error goes in the try clause.\n",
    "\n",
    "The code that executes if an error happens goes in the except clause."
   ]
  },
  {
   "cell_type": "code",
   "execution_count": null,
   "metadata": {},
   "outputs": [],
   "source": []
  }
 ],
 "metadata": {
  "kernelspec": {
   "display_name": "Python 3",
   "language": "python",
   "name": "python3"
  },
  "language_info": {
   "codemirror_mode": {
    "name": "ipython",
    "version": 3
   },
   "file_extension": ".py",
   "mimetype": "text/x-python",
   "name": "python",
   "nbconvert_exporter": "python",
   "pygments_lexer": "ipython3",
   "version": "3.8.5"
  },
  "varInspector": {
   "cols": {
    "lenName": 16,
    "lenType": 16,
    "lenVar": 40
   },
   "kernels_config": {
    "python": {
     "delete_cmd_postfix": "",
     "delete_cmd_prefix": "del ",
     "library": "var_list.py",
     "varRefreshCmd": "print(var_dic_list())"
    },
    "r": {
     "delete_cmd_postfix": ") ",
     "delete_cmd_prefix": "rm(",
     "library": "var_list.r",
     "varRefreshCmd": "cat(var_dic_list()) "
    }
   },
   "types_to_exclude": [
    "module",
    "function",
    "builtin_function_or_method",
    "instance",
    "_Feature"
   ],
   "window_display": false
  }
 },
 "nbformat": 4,
 "nbformat_minor": 4
}
