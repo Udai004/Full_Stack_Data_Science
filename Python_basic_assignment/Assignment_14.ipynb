{
 "cells": [
  {
   "cell_type": "markdown",
   "id": "897ca048",
   "metadata": {},
   "source": [
    "1. What does RGBA stand for?\n",
    "2. From the Pillow module, how do you get the RGBA value of any images?\n",
    "3. What is a box tuple, and how does it work?\n",
    "4. Use your image and load in notebook then, How can you find out the width and height of an\n",
    "Image object?\n",
    "5. What method would you call to get Image object for a 100×100 image, excluding the lower-left\n",
    "quarter of it?\n",
    "6. After making changes to an Image object, how could you save it as an image file?\n",
    "7. What module contains Pillow’s shape-drawing code?\n",
    "8. Image objects do not have drawing methods. What kind of object does? How do you get this kind\n",
    "of object?"
   ]
  },
  {
   "cell_type": "markdown",
   "id": "afda5ddc",
   "metadata": {},
   "source": [
    "# Answers "
   ]
  },
  {
   "cell_type": "markdown",
   "id": "04b70058",
   "metadata": {},
   "source": [
    "1.\tWhat does RGBA stand for?\n",
    "\n",
    "Ans: RGBA stands for (Red-Green-Blue-Alpha) The format of the RGBA Value.\n",
    "\n",
    "2.\tFrom the Pillow module, how do you get the RGBA value of any images?\n",
    "\n",
    "Ans: By performing below steps we get the RGBA value of any image.\n",
    "\n",
    "a.\timport the Image module from the Pillow library from PIL import Image.\n",
    "\n",
    "b.\tOpen any image and get the RAGBAG values. \n",
    "img = Image.open('image.png') \n",
    "rgba = img.convert(“RGBA”)\n",
    "\n",
    "3.\tWhat is a box tuple, and how does it work?\n",
    "Ans: A tuple is a collection of objects which ordered and immutable. \n",
    "\n",
    "Tuples are sequences, just like lists. \n",
    "\n",
    "The differences between tuples and lists are, the tuples cannot be changed unlike lists and tuples use parentheses, whereas lists use square brackets. \n",
    "\n",
    "A tuple lets us “chunk” together related information and use it as a single thing. \n",
    "\n",
    "Tuples support the same sequence operations as strings.\n",
    "\n",
    "The index operator selects an element from a tuple. So, like strings, tuples are immutable.\n",
    "\n",
    "4.\tUse your image and load in notebook then, how can you find out the width and height of an Image object?\n",
    "\n",
    "Ans: By performing below steps we get the width and height of an Image object.\n",
    "\n",
    "a.\timage = PIL. Image. open(\"sample.png\") image to open.\n",
    "\n",
    "b.\twidth, height = image. size. extract width and height from output tuple.\n",
    "\n",
    "c.\tprint(width, height)\n",
    "\n",
    "5.\tWhat method would you call to get Image object for a 100×100 image, excluding the lower-left quarter of it?\n",
    "\n",
    "Ans: By calling getpixel() method.\n",
    "\n",
    "6.\tAfter making changes to an Image object, how could you save it as an image file?\n",
    "\n",
    "Ans: Using the save() method.\n",
    "\n",
    "7.\tWhat module contains Pillow’s shape-drawing code?\n",
    "\n",
    "Ans: ImageDraw module of the Python image processing library Pillow (PIL) provides a number of methods for drawing figures such as circle, square, and straight line.\n",
    "\n",
    "8.\tImage objects do not have drawing methods. What kind of object does? How do you get this kind of object?\n",
    "\n",
    "Ans: ImageDraw module of the Python image processing library Pillow (PIL) provides a number of methods for drawing figures such as circle, square, and straight line. We get this kind of module by importing Pillow module.\n",
    "\n",
    "\n"
   ]
  },
  {
   "cell_type": "code",
   "execution_count": null,
   "id": "036f5d84",
   "metadata": {},
   "outputs": [],
   "source": []
  },
  {
   "cell_type": "code",
   "execution_count": null,
   "id": "712a2391",
   "metadata": {},
   "outputs": [],
   "source": []
  },
  {
   "cell_type": "code",
   "execution_count": null,
   "id": "b8dc81c9",
   "metadata": {},
   "outputs": [],
   "source": []
  },
  {
   "cell_type": "code",
   "execution_count": null,
   "id": "f8c94558",
   "metadata": {},
   "outputs": [],
   "source": []
  },
  {
   "cell_type": "code",
   "execution_count": null,
   "id": "81a1d89e",
   "metadata": {},
   "outputs": [],
   "source": []
  }
 ],
 "metadata": {
  "kernelspec": {
   "display_name": "Python 3",
   "language": "python",
   "name": "python3"
  },
  "language_info": {
   "codemirror_mode": {
    "name": "ipython",
    "version": 3
   },
   "file_extension": ".py",
   "mimetype": "text/x-python",
   "name": "python",
   "nbconvert_exporter": "python",
   "pygments_lexer": "ipython3",
   "version": "3.8.5"
  },
  "varInspector": {
   "cols": {
    "lenName": 16,
    "lenType": 16,
    "lenVar": 40
   },
   "kernels_config": {
    "python": {
     "delete_cmd_postfix": "",
     "delete_cmd_prefix": "del ",
     "library": "var_list.py",
     "varRefreshCmd": "print(var_dic_list())"
    },
    "r": {
     "delete_cmd_postfix": ") ",
     "delete_cmd_prefix": "rm(",
     "library": "var_list.r",
     "varRefreshCmd": "cat(var_dic_list()) "
    }
   },
   "types_to_exclude": [
    "module",
    "function",
    "builtin_function_or_method",
    "instance",
    "_Feature"
   ],
   "window_display": false
  }
 },
 "nbformat": 4,
 "nbformat_minor": 5
}
