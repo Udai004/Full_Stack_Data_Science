{
 "cells": [
  {
   "cell_type": "markdown",
   "metadata": {},
   "source": [
    "# Assignment 2"
   ]
  },
  {
   "cell_type": "code",
   "execution_count": 1,
   "metadata": {},
   "outputs": [
    {
     "name": "stdout",
     "output_type": "stream",
     "text": [
      "Enter number of kilometers: 10\n",
      "Conversion to miles is:  6.21371\n"
     ]
    }
   ],
   "source": [
    "# 1km = 0.621371\n",
    "km=float(input(\"Enter number of kilometers: \"))\n",
    "print(\"Conversion to miles is: \",km*0.621371)"
   ]
  },
  {
   "cell_type": "code",
   "execution_count": 2,
   "metadata": {},
   "outputs": [
    {
     "name": "stdout",
     "output_type": "stream",
     "text": [
      "Enter celcius: 37\n",
      "Celcius to Fahrenheit is:  98.60000000000001\n"
     ]
    }
   ],
   "source": [
    "#celcius to fahrenheit\n",
    "#F=C*1.8+32\n",
    "c=float(input(\"Enter celcius: \"))\n",
    "print(\"Celcius to Fahrenheit is: \", (c*1.8)+32)"
   ]
  },
  {
   "cell_type": "code",
   "execution_count": 5,
   "metadata": {},
   "outputs": [
    {
     "name": "stdout",
     "output_type": "stream",
     "text": [
      "Enter month (1-12): 1\n",
      "    January 2021\n",
      "Mo Tu We Th Fr Sa Su\n",
      "             1  2  3\n",
      " 4  5  6  7  8  9 10\n",
      "11 12 13 14 15 16 17\n",
      "18 19 20 21 22 23 24\n",
      "25 26 27 28 29 30 31\n",
      "\n"
     ]
    }
   ],
   "source": [
    "#To display calendar\n",
    "import calendar\n",
    "mm=int(input(\"Enter month (1-12): \"))\n",
    "print(calendar.month(2021,mm))"
   ]
  },
  {
   "cell_type": "code",
   "execution_count": 9,
   "metadata": {},
   "outputs": [
    {
     "name": "stdout",
     "output_type": "stream",
     "text": [
      "Enter coefficient of second degree: 1\n",
      "Enter coefficient of first degree: 5\n",
      "Enter coefficient of constant: 6\n",
      "The solution are (-2+0j) and (-3+0j)\n"
     ]
    }
   ],
   "source": [
    "#program to solve quadratic equations.\n",
    "import cmath\n",
    "a=int(input(\"Enter coefficient of second degree: \"))\n",
    "b=int(input(\"Enter coefficient of first degree: \"))\n",
    "c=int(input(\"Enter coefficient of constant: \"))\n",
    "root1= (-b+cmath.sqrt((b*b)-(4*a*c)))/(2*a)\n",
    "root2= (-b-cmath.sqrt((b*b)-(4*a*c)))/(2*a)\n",
    "print(\"The solution are {} and {}\".format(root1,root2))"
   ]
  },
  {
   "cell_type": "code",
   "execution_count": 10,
   "metadata": {},
   "outputs": [
    {
     "name": "stdout",
     "output_type": "stream",
     "text": [
      "Before swapping: a is 10 and b is 20\n",
      "After swapping: a is 20 and b is 10\n"
     ]
    }
   ],
   "source": [
    "#To swap the variables without using third variable temp\n",
    "a=10\n",
    "b=20\n",
    "print(\"Before swapping: a is {} and b is {}\".format(a,b))\n",
    "a=a+b\n",
    "b=a-b\n",
    "a=a-b\n",
    "print(\"After swapping: a is {} and b is {}\".format(a,b))"
   ]
  },
  {
   "cell_type": "code",
   "execution_count": null,
   "metadata": {},
   "outputs": [],
   "source": []
  }
 ],
 "metadata": {
  "kernelspec": {
   "display_name": "Python 3",
   "language": "python",
   "name": "python3"
  },
  "language_info": {
   "codemirror_mode": {
    "name": "ipython",
    "version": 3
   },
   "file_extension": ".py",
   "mimetype": "text/x-python",
   "name": "python",
   "nbconvert_exporter": "python",
   "pygments_lexer": "ipython3",
   "version": "3.8.5"
  }
 },
 "nbformat": 4,
 "nbformat_minor": 4
}
