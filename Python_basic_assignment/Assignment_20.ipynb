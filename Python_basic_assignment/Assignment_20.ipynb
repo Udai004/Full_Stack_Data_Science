{
 "cells": [
  {
   "cell_type": "markdown",
   "id": "bb44143d",
   "metadata": {},
   "source": [
    "1. Set the variable test1 to the string 'This is a test of the emergency text system,' and save test1 to a\n",
    "file named test.txt.\n",
    "2. Read the contents of the file test.txt into the variable test2. Is there a difference between test 1\n",
    "and test 2?\n",
    "3. Create a CSV file called books.csv by using these lines:\n",
    "title,author,year\n",
    "The Weirdstone of Brisingamen,Alan Garner,1960\n",
    "Perdido Street Station,China Miéville,2000\n",
    "Thud!,Terry Pratchett,2005\n",
    "The Spellman Files,Lisa Lutz,2007\n",
    "Small Gods,Terry Pratchett,1992\n",
    "4. Use the sqlite3 module to create a SQLite database called books.db, and a table called books with\n",
    "these fields: title (text), author (text), and year (integer).\n",
    "5. Read books.csv and insert its data into the book table.\n",
    "6. Select and print the title column from the book table in alphabetical order.\n",
    "7. From the book table, select and print all columns in the order of publication.\n",
    "8. Use the sqlalchemy module to connect to the sqlite3 database books.db that you just made in\n",
    "exercise 6.\n",
    "9. Install the Redis server and the Python redis library (pip install redis) on your computer. Create a\n",
    "Redis hash called test with the fields count (1) and name ('Fester Bestertester'). Print all the fields for\n",
    "test.\n",
    "10. Increment the count field of test and print it."
   ]
  },
  {
   "cell_type": "markdown",
   "id": "e8c066f8",
   "metadata": {},
   "source": [
    "# Answers\n"
   ]
  },
  {
   "cell_type": "code",
   "execution_count": 1,
   "id": "cf0ca8fb",
   "metadata": {},
   "outputs": [],
   "source": [
    "#1.\n",
    "test1= ''' This is a test of the emergency text system '''\n",
    "with open ('test.txt', 'w') as outfile:\n",
    "    outfile.write(test1)\n",
    "\n"
   ]
  },
  {
   "cell_type": "code",
   "execution_count": 2,
   "id": "d6744476",
   "metadata": {},
   "outputs": [
    {
     "name": "stdout",
     "output_type": "stream",
     "text": [
      " This is a test of the emergency text system \n"
     ]
    }
   ],
   "source": [
    "#2.\n",
    "with open ('test.txt', 'r') as outfile:\n",
    "    test2= outfile.read()\n",
    "print (test2)\n",
    "\n"
   ]
  },
  {
   "cell_type": "code",
   "execution_count": 3,
   "id": "5cc3da91",
   "metadata": {},
   "outputs": [],
   "source": [
    "#3.\n",
    "text= '''title,author,year\n",
    "        The Weirdstone of Brisingamen,Alan Garner,1960\n",
    "        Perdido Street Station,China Miéville,2000\n",
    "        Thud!,Terry Pratchett,2005\n",
    "        The Spellman Files,Lisa Lutz,2007\n",
    "        Small Gods,Terry Pratchett,1992 '''\n",
    "with open('books.csv', 'w') as outfile:\n",
    "    outfile.write(text)\n",
    "\n"
   ]
  },
  {
   "cell_type": "code",
   "execution_count": 4,
   "id": "6f9eb1e4",
   "metadata": {},
   "outputs": [],
   "source": [
    "#4.\n",
    "import sqlite3\n",
    "db = sqlite3.connect(\"books.db\")\n",
    "curs = db.cursor()\n",
    "curs.execute('''create table book (title text, author text, year integer)''')\n",
    "db.commit()\n",
    "db.close()"
   ]
  },
  {
   "cell_type": "code",
   "execution_count": 5,
   "id": "b62888ae",
   "metadata": {},
   "outputs": [
    {
     "name": "stdout",
     "output_type": "stream",
     "text": [
      "<_csv.reader object at 0x00000230DE6140A0>\n"
     ]
    }
   ],
   "source": [
    "#5.\n",
    "import csv\n",
    "import sqlite3\n",
    "con = sqlite3.connect(\"books.db\")\n",
    "cur = con.cursor()\n",
    "\n",
    "a_file = open(\"books.csv\")\n",
    "rows = csv.reader(a_file)\n",
    "print(rows)"
   ]
  },
  {
   "cell_type": "code",
   "execution_count": 6,
   "id": "a4dc18b0",
   "metadata": {},
   "outputs": [
    {
     "name": "stdout",
     "output_type": "stream",
     "text": [
      "[('title', 'author', 'year'), ('        The Weirdstone of Brisingamen', 'Alan Garner', 1960), ('        Perdido Street Station', 'China Miéville', 2000), ('        Thud!', 'Terry Pratchett', 2005), ('        The Spellman Files', 'Lisa Lutz', 2007), ('        Small Gods', 'Terry Pratchett', 1992)]\n"
     ]
    }
   ],
   "source": [
    "cur.executemany(\"insert into book values (?,?,?)\", rows)\n",
    "\n",
    "cur.execute(\"SELECT * FROM book\")\n",
    "print(cur.fetchall())\n"
   ]
  },
  {
   "cell_type": "code",
   "execution_count": 7,
   "id": "4a0e7edb",
   "metadata": {},
   "outputs": [],
   "source": [
    "\n",
    "con.commit()\n",
    "con.close()"
   ]
  },
  {
   "cell_type": "code",
   "execution_count": 10,
   "id": "edc24b10",
   "metadata": {},
   "outputs": [
    {
     "name": "stdout",
     "output_type": "stream",
     "text": [
      "('        Perdido Street Station',)\n",
      "('        Small Gods',)\n",
      "('        The Spellman Files',)\n",
      "('        The Weirdstone of Brisingamen',)\n",
      "('        Thud!',)\n",
      "('title',)\n"
     ]
    }
   ],
   "source": [
    "#6.\n",
    "db = sqlite3.connect(\"books.db\")\n",
    "curs = db.cursor()\n",
    "\n",
    "select= 'select title from book order by title asc'\n",
    "for row in db.execute(select):\n",
    "    print(row)\n",
    "\n",
    "db.commit()\n",
    "db.close()"
   ]
  },
  {
   "cell_type": "code",
   "execution_count": 12,
   "id": "94956143",
   "metadata": {},
   "outputs": [
    {
     "name": "stdout",
     "output_type": "stream",
     "text": [
      "('        The Weirdstone of Brisingamen', 'Alan Garner', 1960)\n",
      "('        Small Gods', 'Terry Pratchett', 1992)\n",
      "('        Perdido Street Station', 'China Miéville', 2000)\n",
      "('        Thud!', 'Terry Pratchett', 2005)\n",
      "('        The Spellman Files', 'Lisa Lutz', 2007)\n",
      "('title', 'author', 'year')\n"
     ]
    }
   ],
   "source": [
    "#7.\n",
    "db = sqlite3.connect(\"books.db\")\n",
    "curs = db.cursor()\n",
    "for row in db.execute('select * from book order by year'):\n",
    "    print(row)\n",
    "\n",
    "db.commit()\n",
    "db.close()"
   ]
  },
  {
   "cell_type": "code",
   "execution_count": 15,
   "id": "9d0c2962",
   "metadata": {},
   "outputs": [
    {
     "name": "stdout",
     "output_type": "stream",
     "text": [
      "('        Perdido Street Station',)\n",
      "('        Small Gods',)\n",
      "('        The Spellman Files',)\n",
      "('        The Weirdstone of Brisingamen',)\n",
      "('        Thud!',)\n",
      "('title',)\n"
     ]
    }
   ],
   "source": [
    "#8.\n",
    "import sqlalchemy\n",
    "conn = sqlalchemy.create_engine('sqlite:///books.db')\n",
    "select= 'select title from book order by title asc'\n",
    "rows = conn.execute(select)\n",
    "for row in rows:\n",
    "    print (row)\n",
    "\n"
   ]
  },
  {
   "cell_type": "code",
   "execution_count": 27,
   "id": "156fd1a4",
   "metadata": {},
   "outputs": [],
   "source": [
    "#9.\n",
    "# As redis is getting error in windows machine , I have given below code which can be executed in linux machine\n",
    "# import redis\n",
    "# conn = redis.Redis()\n",
    "# conn.delete('test')\n",
    "# conn.hmset('test', {'count' : '1' , 'name' :' Udai'})\n",
    "# conn.hagtall('test')"
   ]
  },
  {
   "cell_type": "code",
   "execution_count": 28,
   "id": "8025e99e",
   "metadata": {},
   "outputs": [],
   "source": [
    "#10.\n",
    "# As redis is getting error in windows machine , I have given below code which can be executed in linux machine\n",
    "\n",
    "# conn = hincrby('test', 'count', 3)\n",
    "# conn.hget('test', 'count')\n",
    "\n"
   ]
  }
 ],
 "metadata": {
  "kernelspec": {
   "display_name": "Python 3",
   "language": "python",
   "name": "python3"
  },
  "language_info": {
   "codemirror_mode": {
    "name": "ipython",
    "version": 3
   },
   "file_extension": ".py",
   "mimetype": "text/x-python",
   "name": "python",
   "nbconvert_exporter": "python",
   "pygments_lexer": "ipython3",
   "version": "3.8.5"
  },
  "varInspector": {
   "cols": {
    "lenName": 16,
    "lenType": 16,
    "lenVar": 40
   },
   "kernels_config": {
    "python": {
     "delete_cmd_postfix": "",
     "delete_cmd_prefix": "del ",
     "library": "var_list.py",
     "varRefreshCmd": "print(var_dic_list())"
    },
    "r": {
     "delete_cmd_postfix": ") ",
     "delete_cmd_prefix": "rm(",
     "library": "var_list.r",
     "varRefreshCmd": "cat(var_dic_list()) "
    }
   },
   "types_to_exclude": [
    "module",
    "function",
    "builtin_function_or_method",
    "instance",
    "_Feature"
   ],
   "window_display": false
  }
 },
 "nbformat": 4,
 "nbformat_minor": 5
}
