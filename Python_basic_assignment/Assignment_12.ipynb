{
 "cells": [
  {
   "cell_type": "markdown",
   "id": "f6a33bfa",
   "metadata": {},
   "source": [
    "1. In what modes should the PdfFileReader() and PdfFileWriter() File objects will be opened?\n",
    "2. From a PdfFileReader object, how do you get a Page object for page 5?\n",
    "3. What PdfFileReader variable stores the number of pages in the PDF document?\n",
    "4. If a PdfFileReader object’s PDF is encrypted with the password swordfish, what must you do\n",
    "before you can obtain Page objects from it?\n",
    "5. What methods do you use to rotate a page?\n",
    "6. What is the difference between a Run object and a Paragraph object?\n",
    "7. How do you obtain a list of Paragraph objects for a Document object that’s stored in a variable\n",
    "named doc?\n",
    "8. What type of object has bold, underline, italic, strike, and outline variables?\n",
    "9. What is the difference between False, True, and None for the bold variable?\n",
    "10. How do you create a Document object for a new Word document?\n",
    "11. How do you add a paragraph with the text &#39;Hello, there!&#39; to a Document object stored in a\n",
    "variable named doc?\n",
    "12. What integers represent the levels of headings available in Word documents?"
   ]
  },
  {
   "cell_type": "markdown",
   "id": "3fdb252b",
   "metadata": {},
   "source": [
    "# Answers"
   ]
  },
  {
   "cell_type": "markdown",
   "id": "92418ed5",
   "metadata": {},
   "source": [
    "1.\tIn what modes should the PdfFileReader() and PdfFileWriter() File objects will be opened?\n",
    "\n",
    "Ans: PdfFileReader() needs to be opened in read-binary mode by passing 'rb' as the second argument to open(). \n",
    "Likewise, the File object passed to PyPDF2. PdfFileWriter() needs to be opened in write-binary mode with 'wb'.\n",
    "\n",
    "2.\tFrom a PdfFileReader object, how do you get a Page object for page 5?\n",
    "\n",
    "Ans: We can get a Page object by calling the getPage() method on a PdfFileReader object and passing it the page number of the page you are interested in—in our case, 0.\n",
    "\n",
    "3.\tWhat PdfFileReader variable stores the number of pages in the PDF document?\n",
    "\n",
    "Ans: The total number of pages in the document is stored in the numPages attribute of a PdfFileReader object.\n",
    "\n",
    "4.\tIf a PdfFileReader object’s PDF is encrypted with the password swordfish, what must you do before you can obtain Page objects from it?\n",
    "\n",
    "Ans: We need to enter this password (Call decrypt('swordfish') ) before obtain Page objects from it.\n",
    "\n",
    "5.\tWhat methods do you use to rotate a page?\n",
    "\n",
    "Ans: To rotate single pages, move the mouse over the corresponding page. Two rotation buttons are displayed on the page thumbnail view which can click. \n",
    "\n",
    "The page is always rotated in 90° increments. Just click the rotation icon in the page window – clockwise or counter-clockwise.\n",
    "\n",
    "The rotateClockwise() and rotateCounterClockwise() methods. The degrees to rotate is passed as an integer argument.\n",
    "\n",
    "\n",
    "\n",
    "\n",
    "6.\tWhat is the difference between a Run object and a Paragraph object?\n",
    "\n",
    "Ans: Paragraph-level formatting, such as style, is preserved. \n",
    "\n",
    "The ParagraphFormat object providing access to the formatting properties for this paragraph, such as line spacing and indentation. \n",
    "\n",
    "Runs Sequence of Run instances corresponding to the <w:r> elements in this paragraph.  A document contains multiple paragraphs. \n",
    "\n",
    "A paragraph begins on a new line and contains multiple runs. \n",
    "\n",
    "Runs are contiguous groups of characters within a paragraph.\n",
    "\n",
    "7.\tHow do you obtain a list of Paragraph objects for a Document object that is stored in a variable named doc?\n",
    "\n",
    "Ans: By useing doc.paragraphs.\n",
    "\n",
    "8.\tWhat type of object has bold, underline, italic, strike, and outline variables?\n",
    "\n",
    "Ans: A Run object has these variables (not a paragraph).\n",
    "\n",
    "Syntax: \n",
    "\n",
    "object.Bold [= Boolean ]\n",
    "\n",
    "object.Italic [= Boolean ]\n",
    "\n",
    "object.Size [= Currency ]\n",
    "\n",
    "object.StrikeThrough [= Boolean ]\n",
    "\n",
    "object.Underline [= Boolean ]\n",
    "\n",
    "object.Weight [= Integer ]\n",
    "\n",
    "9.\tWhat is the difference between False, True, and None for the bold variable?\n",
    "\n",
    "Ans: True and False are specific bool values. True / False are used where the field takes a Boolean value. None is used where the field takes an Optional[List] . True and False are specific bool values. Use default False when you have a bool field, and you want the default to be False. Do not use False as a value for a non-bool field. None is used as a generic placeholder when the value will be set later. It can be typed as Optional[T], which is equivalent to Union[T, None]. True always makes the Run object bolded and False makes it always not bolded, no matter what the style's bold setting is. None will make the Run object just use the style's bold setting.\n",
    "\n",
    "\n",
    "\n",
    "10.\tHow do you create a Document object for a new Word document?\n",
    "\n",
    "Ans: By calling the docx.Document() function.\n",
    "\n",
    "11.\tHow do you add a paragraph with the text 'Hello, there!' to a Document object stored in a variable named doc?\n",
    "\n",
    "Ans: doc.add_paragraph('Hello there!').\n",
    "\n",
    "12.\tWhat integers represent the levels of headings available in Word documents?\n",
    "\n",
    "Ans: The integers 0,1,2,3, and 4.\n",
    "\n",
    "\n"
   ]
  },
  {
   "cell_type": "code",
   "execution_count": null,
   "id": "de2672e8",
   "metadata": {},
   "outputs": [],
   "source": []
  },
  {
   "cell_type": "code",
   "execution_count": null,
   "id": "8c475026",
   "metadata": {},
   "outputs": [],
   "source": []
  },
  {
   "cell_type": "code",
   "execution_count": null,
   "id": "ac425848",
   "metadata": {},
   "outputs": [],
   "source": []
  },
  {
   "cell_type": "code",
   "execution_count": null,
   "id": "6653c5f2",
   "metadata": {},
   "outputs": [],
   "source": []
  },
  {
   "cell_type": "code",
   "execution_count": null,
   "id": "91e7393f",
   "metadata": {},
   "outputs": [],
   "source": []
  },
  {
   "cell_type": "code",
   "execution_count": null,
   "id": "62c6e41b",
   "metadata": {},
   "outputs": [],
   "source": []
  },
  {
   "cell_type": "code",
   "execution_count": null,
   "id": "b1376f5e",
   "metadata": {},
   "outputs": [],
   "source": []
  },
  {
   "cell_type": "code",
   "execution_count": null,
   "id": "77b0347e",
   "metadata": {},
   "outputs": [],
   "source": []
  },
  {
   "cell_type": "code",
   "execution_count": null,
   "id": "594a0085",
   "metadata": {},
   "outputs": [],
   "source": []
  },
  {
   "cell_type": "code",
   "execution_count": null,
   "id": "c3bef782",
   "metadata": {},
   "outputs": [],
   "source": []
  },
  {
   "cell_type": "code",
   "execution_count": null,
   "id": "69581ce9",
   "metadata": {},
   "outputs": [],
   "source": []
  },
  {
   "cell_type": "code",
   "execution_count": null,
   "id": "e4c00b51",
   "metadata": {},
   "outputs": [],
   "source": []
  },
  {
   "cell_type": "code",
   "execution_count": null,
   "id": "cd714fab",
   "metadata": {},
   "outputs": [],
   "source": []
  },
  {
   "cell_type": "code",
   "execution_count": null,
   "id": "0dc0d159",
   "metadata": {},
   "outputs": [],
   "source": []
  },
  {
   "cell_type": "code",
   "execution_count": null,
   "id": "4280371d",
   "metadata": {},
   "outputs": [],
   "source": []
  },
  {
   "cell_type": "code",
   "execution_count": null,
   "id": "ba9b3735",
   "metadata": {},
   "outputs": [],
   "source": []
  },
  {
   "cell_type": "code",
   "execution_count": null,
   "id": "47a01e12",
   "metadata": {},
   "outputs": [],
   "source": []
  },
  {
   "cell_type": "code",
   "execution_count": null,
   "id": "9f719bec",
   "metadata": {},
   "outputs": [],
   "source": []
  },
  {
   "cell_type": "code",
   "execution_count": null,
   "id": "f89a71c5",
   "metadata": {},
   "outputs": [],
   "source": []
  }
 ],
 "metadata": {
  "kernelspec": {
   "display_name": "Python 3",
   "language": "python",
   "name": "python3"
  },
  "language_info": {
   "codemirror_mode": {
    "name": "ipython",
    "version": 3
   },
   "file_extension": ".py",
   "mimetype": "text/x-python",
   "name": "python",
   "nbconvert_exporter": "python",
   "pygments_lexer": "ipython3",
   "version": "3.8.5"
  },
  "varInspector": {
   "cols": {
    "lenName": 16,
    "lenType": 16,
    "lenVar": 40
   },
   "kernels_config": {
    "python": {
     "delete_cmd_postfix": "",
     "delete_cmd_prefix": "del ",
     "library": "var_list.py",
     "varRefreshCmd": "print(var_dic_list())"
    },
    "r": {
     "delete_cmd_postfix": ") ",
     "delete_cmd_prefix": "rm(",
     "library": "var_list.r",
     "varRefreshCmd": "cat(var_dic_list()) "
    }
   },
   "types_to_exclude": [
    "module",
    "function",
    "builtin_function_or_method",
    "instance",
    "_Feature"
   ],
   "window_display": false
  }
 },
 "nbformat": 4,
 "nbformat_minor": 5
}
