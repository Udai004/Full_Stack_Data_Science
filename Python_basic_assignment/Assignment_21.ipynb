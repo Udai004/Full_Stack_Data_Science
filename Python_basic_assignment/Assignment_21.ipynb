{
 "cells": [
  {
   "cell_type": "markdown",
   "id": "bb44143d",
   "metadata": {},
   "source": [
    "1. Add the current date to the text file today.txt as a string.\n",
    "2. Read the text file today.txt into the string today_string\n",
    "3. Parse the date from today_string.\n",
    "4. List the files in your current directory\n",
    "5. Create a list of all of the files in your parent directory (minimum five files should be available).\n",
    "6. Use multiprocessing to create three separate processes. Make each one wait a random number of\n",
    "seconds between one and five, print the current time, and then exit.\n",
    "7. Create a date object of your day of birth.\n",
    "8. What day of the week was your day of birth?\n",
    "9. When will you be (or when were you) 10,000 days old?"
   ]
  },
  {
   "cell_type": "markdown",
   "id": "e8c066f8",
   "metadata": {},
   "source": [
    "# Answers\n"
   ]
  },
  {
   "cell_type": "code",
   "execution_count": 1,
   "id": "cf0ca8fb",
   "metadata": {},
   "outputs": [
    {
     "name": "stdout",
     "output_type": "stream",
     "text": [
      "2021-06-20\n"
     ]
    }
   ],
   "source": [
    "#1.\n",
    "from datetime import date\n",
    "now= date.today()\n",
    "now_str= now.isoformat()\n",
    "with open ('today.txt', 'w') as output:\n",
    "    output.write(now_str)\n",
    "    print(now_str)\n",
    "\n"
   ]
  },
  {
   "cell_type": "code",
   "execution_count": 2,
   "id": "d6744476",
   "metadata": {},
   "outputs": [
    {
     "name": "stdout",
     "output_type": "stream",
     "text": [
      "2021-06-20\n"
     ]
    }
   ],
   "source": [
    "#2.\n",
    "with open ('today.txt', 'r+') as input:\n",
    "    today_string= input.read()\n",
    "    print(today_string)\n",
    "\n"
   ]
  },
  {
   "cell_type": "code",
   "execution_count": 12,
   "id": "5cc3da91",
   "metadata": {},
   "outputs": [
    {
     "data": {
      "text/plain": [
       "'20/06/2021'"
      ]
     },
     "execution_count": 12,
     "metadata": {},
     "output_type": "execute_result"
    }
   ],
   "source": [
    "#3.\n",
    "today_string = '2021-06-20'\n",
    "datetime.datetime.strptime(today_string, '%Y-%m-%d').strftime('%d/%m/%Y')\n",
    "\n"
   ]
  },
  {
   "cell_type": "code",
   "execution_count": 5,
   "id": "6f9eb1e4",
   "metadata": {},
   "outputs": [
    {
     "name": "stdout",
     "output_type": "stream",
     "text": [
      "['.ipynb_checkpoints', 'Assignment_1.ipynb', 'Assignment_10.ipynb', 'Assignment_11.ipynb', 'Assignment_12.ipynb', 'Assignment_13.ipynb', 'Assignment_14.ipynb', 'Assignment_15.ipynb', 'Assignment_16.ipynb', 'Assignment_17.ipynb', 'Assignment_18.ipynb', 'Assignment_19.ipynb', 'Assignment_2.ipynb', 'Assignment_20.ipynb', 'Assignment_21.ipynb', 'Assignment_22.ipynb', 'Assignment_23.ipynb', 'Assignment_24.ipynb', 'Assignment_25.ipynb', 'Assignment_3.ipynb', 'Assignment_4.ipynb', 'Assignment_5.ipynb', 'Assignment_6.ipynb', 'Assignment_7.ipynb', 'Assignment_8.ipynb', 'Assignment_9.ipynb', 'books.csv', 'books.db', 'test.txt', 'today.txt', 'zoo.py', '__pycache__']\n"
     ]
    }
   ],
   "source": [
    "#4.\n",
    "import os\n",
    "from os import listdir\n",
    "listdir()\n",
    "print(listdir())\n"
   ]
  },
  {
   "cell_type": "code",
   "execution_count": 6,
   "id": "362f2f6f",
   "metadata": {},
   "outputs": [
    {
     "name": "stdout",
     "output_type": "stream",
     "text": [
      "['.ipynb_checkpoints', 'Assignment_1.ipynb', 'Assignment_10.ipynb', 'Assignment_11.ipynb', 'Assignment_12.ipynb', 'Assignment_13.ipynb', 'Assignment_14.ipynb', 'Assignment_15.ipynb', 'Assignment_16.ipynb', 'Assignment_17.ipynb', 'Assignment_18.ipynb', 'Assignment_19.ipynb', 'Assignment_2.ipynb', 'Assignment_20.ipynb', 'Assignment_21.ipynb', 'Assignment_22.ipynb', 'Assignment_23.ipynb', 'Assignment_24.ipynb', 'Assignment_25.ipynb', 'Assignment_3.ipynb', 'Assignment_4.ipynb', 'Assignment_5.ipynb', 'Assignment_6.ipynb', 'Assignment_7.ipynb', 'Assignment_8.ipynb', 'Assignment_9.ipynb', 'books.csv', 'books.db', 'test.txt', 'today.txt', 'zoo.py', '__pycache__']\n"
     ]
    }
   ],
   "source": [
    "#5.\n",
    "import os\n",
    "from os import listdir\n",
    "os.listdir()\n",
    "print(listdir())\n",
    "\n"
   ]
  },
  {
   "cell_type": "code",
   "execution_count": 7,
   "id": "edc24b10",
   "metadata": {},
   "outputs": [
    {
     "name": "stdout",
     "output_type": "stream",
     "text": [
      "Today's date: 2021-06-20\n"
     ]
    }
   ],
   "source": [
    "#6.\n",
    "import multiprocessing\n",
    "import time\n",
    "from datetime import date\n",
    "def worker():\n",
    "    name = multiprocessing.current_process().name\n",
    "    print (name, 'Starting')\n",
    "    time.sleep(2)\n",
    "    print (name, 'Exiting')\n",
    "def my_service():\n",
    "    name = multiprocessing.current_process().name\n",
    "    print (name, 'Starting')\n",
    "    time.sleep(3)\n",
    "    print (name, 'Exiting')\n",
    "if __name__ == '__main__':\n",
    "    service = multiprocessing.Process(name='my_service', target=my_service)\n",
    "    worker_1 = multiprocessing.Process(name='worker 1', target=worker)\n",
    "    worker_2 = multiprocessing.Process(target=worker) # use default name\n",
    "    worker_1.start()\n",
    "    worker_2.start()\n",
    "    service.start()\n",
    "    today = date.today()\n",
    "    print(\"Today's date:\", today)\n",
    "\n"
   ]
  },
  {
   "cell_type": "code",
   "execution_count": 3,
   "id": "94956143",
   "metadata": {},
   "outputs": [
    {
     "name": "stdout",
     "output_type": "stream",
     "text": [
      "Enter your date of birth: 04/04/1995\n",
      "Day: 4\n",
      "Month: 4\n",
      "Year: 1995\n"
     ]
    }
   ],
   "source": [
    "#7.\n",
    "from datetime import datetime\n",
    "birthday = input(\"Enter your date of birth: \")\n",
    "bday = datetime.strptime(birthday, '%d/%m/%Y')\n",
    "print(f'Day: {bday.day}')\n",
    "print(f'Month: {bday.month}')\n",
    "print(f'Year: {bday.year}')\n",
    "\n"
   ]
  },
  {
   "cell_type": "code",
   "execution_count": 4,
   "id": "9d0c2962",
   "metadata": {},
   "outputs": [
    {
     "name": "stdout",
     "output_type": "stream",
     "text": [
      "Enter date \n",
      " eg: 05/05/2019 \n",
      "\n",
      "04/04/1995\n",
      "Tuesday\n"
     ]
    }
   ],
   "source": [
    "#8.\n",
    "import datetime\n",
    "week_days= ['Monday', 'Tuesday', 'Wednesday', 'Thursday', 'Friday', 'Saturday','Sunday']\n",
    "l=list(map(int, input(\"Enter date \\n eg: 05/05/2019 \\n\\n\").split('/')))\n",
    "day=datetime.date(l[2],l[1],l[0]).weekday()\n",
    "print(week_days[day])\n"
   ]
  },
  {
   "cell_type": "code",
   "execution_count": 11,
   "id": "156fd1a4",
   "metadata": {},
   "outputs": [
    {
     "name": "stdout",
     "output_type": "stream",
     "text": [
      "\n",
      "Current Date:  2021-06-20\n",
      "30 days before current date:  1994-02-02\n",
      "30 days after current date :  2048-11-05\n"
     ]
    }
   ],
   "source": [
    "#9.\n",
    "from datetime import date, timedelta\n",
    "\n",
    "current_date = date.today().isoformat()   \n",
    "days_before = (date.today()-timedelta(days=10000)).isoformat()\n",
    "days_after = (date.today()+timedelta(days=10000)).isoformat()  \n",
    "\n",
    "print(\"\\nCurrent Date: \",current_date)\n",
    "print(\"30 days before current date: \",days_before)\n",
    "print(\"30 days after current date : \",days_after)\n",
    "    \n"
   ]
  }
 ],
 "metadata": {
  "kernelspec": {
   "display_name": "Python 3",
   "language": "python",
   "name": "python3"
  },
  "language_info": {
   "codemirror_mode": {
    "name": "ipython",
    "version": 3
   },
   "file_extension": ".py",
   "mimetype": "text/x-python",
   "name": "python",
   "nbconvert_exporter": "python",
   "pygments_lexer": "ipython3",
   "version": "3.8.5"
  },
  "varInspector": {
   "cols": {
    "lenName": 16,
    "lenType": 16,
    "lenVar": 40
   },
   "kernels_config": {
    "python": {
     "delete_cmd_postfix": "",
     "delete_cmd_prefix": "del ",
     "library": "var_list.py",
     "varRefreshCmd": "print(var_dic_list())"
    },
    "r": {
     "delete_cmd_postfix": ") ",
     "delete_cmd_prefix": "rm(",
     "library": "var_list.r",
     "varRefreshCmd": "cat(var_dic_list()) "
    }
   },
   "types_to_exclude": [
    "module",
    "function",
    "builtin_function_or_method",
    "instance",
    "_Feature"
   ],
   "window_display": false
  }
 },
 "nbformat": 4,
 "nbformat_minor": 5
}
