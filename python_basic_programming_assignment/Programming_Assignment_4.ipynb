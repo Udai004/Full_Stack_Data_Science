{
 "cells": [
  {
   "cell_type": "markdown",
   "metadata": {},
   "source": [
    "# Assignment 4"
   ]
  },
  {
   "cell_type": "code",
   "execution_count": 16,
   "metadata": {},
   "outputs": [
    {
     "name": "stdout",
     "output_type": "stream",
     "text": [
      "Enter a number: 5\n",
      "120\n"
     ]
    }
   ],
   "source": [
    "#factorial of a number\n",
    "a=int(input(\"Enter a number: \"))\n",
    "fact=1\n",
    "for i in range(1,a+1):\n",
    "    fact=fact*i\n",
    "print(fact)"
   ]
  },
  {
   "cell_type": "code",
   "execution_count": 2,
   "metadata": {},
   "outputs": [
    {
     "name": "stdout",
     "output_type": "stream",
     "text": [
      "Enter a number: 3\n",
      "3 * 1 = 3\n",
      "3 * 2 = 6\n",
      "3 * 3 = 9\n",
      "3 * 4 = 12\n",
      "3 * 5 = 15\n",
      "3 * 6 = 18\n",
      "3 * 7 = 21\n",
      "3 * 8 = 24\n",
      "3 * 9 = 27\n",
      "3 * 10 = 30\n"
     ]
    }
   ],
   "source": [
    "#Program to display multiples of a number.\n",
    "a=int(input(\"Enter a number: \"))\n",
    "for i in range(1,11):\n",
    "    print(\"{} * {} = {}\".format(a,i,a*i))"
   ]
  },
  {
   "cell_type": "code",
   "execution_count": 4,
   "metadata": {},
   "outputs": [
    {
     "name": "stdout",
     "output_type": "stream",
     "text": [
      "Enter a number upto which the sequence has to be generated: 10\n",
      "0 1 1 2 3 5 8 13 21 34 "
     ]
    }
   ],
   "source": [
    "#Program to print fibonacci sequence.\n",
    "val=int(input(\"Enter a number upto which the sequence has to be generated: \"))\n",
    "a=0\n",
    "b=1\n",
    "print(a, end=\" \")\n",
    "print(b, end=\" \")\n",
    "for i in range(val-2):\n",
    "    c=a+b\n",
    "    print(c, end=\" \")\n",
    "    a=b\n",
    "    b=c"
   ]
  },
  {
   "cell_type": "code",
   "execution_count": 9,
   "metadata": {},
   "outputs": [
    {
     "name": "stdout",
     "output_type": "stream",
     "text": [
      "Enter number: 153\n",
      "Armstrong number\n"
     ]
    }
   ],
   "source": [
    "#To check for an armstrong number:\n",
    "a=input(\"Enter number: \")\n",
    "b=int(a)\n",
    "sum=0\n",
    "for i in range(len(a)):\n",
    "    sum=sum+(int(a[i])*int(a[i])*int(a[i]))\n",
    "if sum==b:\n",
    "    print(\"Armstrong number\")\n",
    "else:\n",
    "    print(\"Not an Armstrong number\")"
   ]
  },
  {
   "cell_type": "code",
   "execution_count": 13,
   "metadata": {},
   "outputs": [
    {
     "name": "stdout",
     "output_type": "stream",
     "text": [
      "enter lower limit: 1\n",
      "enter upper limit: 1000\n",
      "1 153 370 371 407 "
     ]
    }
   ],
   "source": [
    "# To generate a series of armstrong numbers:\n",
    "a=input(\"enter lower limit: \")\n",
    "b=int(input(\"enter upper limit: \"))\n",
    "c=int(a)\n",
    "for i in range(c,b):\n",
    "    sum=0\n",
    "    d=str(i)\n",
    "    for j in range(len(d)):\n",
    "        sum=sum+(int(d[j])*int(d[j])*int(d[j]))\n",
    "    if sum==i:\n",
    "        print(i, end=\" \")"
   ]
  },
  {
   "cell_type": "code",
   "execution_count": 14,
   "metadata": {},
   "outputs": [
    {
     "name": "stdout",
     "output_type": "stream",
     "text": [
      "Enter a natural number: 10\n",
      "55\n"
     ]
    }
   ],
   "source": [
    "#sum of natural numbers:\n",
    "a=int(input(\"Enter a natural number: \"))\n",
    "sum=0\n",
    "for i in range(1,a+1):\n",
    "    sum=sum+i\n",
    "print(sum)"
   ]
  },
  {
   "cell_type": "code",
   "execution_count": null,
   "metadata": {},
   "outputs": [],
   "source": []
  }
 ],
 "metadata": {
  "kernelspec": {
   "display_name": "Python 3",
   "language": "python",
   "name": "python3"
  },
  "language_info": {
   "codemirror_mode": {
    "name": "ipython",
    "version": 3
   },
   "file_extension": ".py",
   "mimetype": "text/x-python",
   "name": "python",
   "nbconvert_exporter": "python",
   "pygments_lexer": "ipython3",
   "version": "3.8.5"
  }
 },
 "nbformat": 4,
 "nbformat_minor": 4
}
