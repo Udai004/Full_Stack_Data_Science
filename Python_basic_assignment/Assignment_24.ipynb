{
 "cells": [
  {
   "cell_type": "markdown",
   "id": "bb44143d",
   "metadata": {},
   "source": [
    "1.\tWhat is the relationship between def statements and lambda expressions?\n",
    "\n",
    "Ans: we will use the def keyword to create a function that returns the sum of two numbers, and then we will write it as a lambda expression: As we can see, if we want our function to have multiple parameters in a lambda expression, we will just separate those parameters by a comma.\n",
    "\n",
    "\n",
    "2.\tWhat is the benefit of lambda?\n",
    "\n",
    "Ans: The lambda keyword provides a shortcut for declaring small anonymous functions. Lambda functions behave just like regular functions declared with the def keyword. They can be used whenever function objects are required.\n",
    "\n",
    "3.\tCompare and contrast map, filter, and reduce.\n",
    "\n",
    "Ans: Map creates a new array by transforming every element in an array, individually. filter creates a new array by removing elements that do not belong. reduce, on the other hand, takes all the elements in an array and reduces them into a single value. Just like map and filter, reduce is defined on Array.\n",
    "\n",
    "4.\tWhat are function annotations, and how are they used?\n",
    "\n",
    "Ans: Function annotations are a Python 3 feature that lets you add arbitrary metadata to function arguments and return value. They were part of the original Python 3.0 spec. Function annotations are completely optional both for parameters and return value. Function annotations provide a way of associating various parts of a function with arbitrary python expressions at compile time.\n",
    "\n",
    "5.\tWhat are recursive functions, and how are they used?\n",
    "\n",
    "Ans: A recursive function is a function defined in terms of itself via self-referential expressions. This means that the function will continue to call itself and repeat its behaviour until some condition is met to return a result. factorial () is a recursive function as it calls itself. When we call this function with a positive integer, it will recursively call itself by decreasing the number. Each function multiplies the number with the factorial of the number below it until it is equal to one.\n",
    "\n",
    "\n",
    "6.\tWhat are some general design guidelines for coding functions?\n",
    "\n",
    "Ans: Use the function naming rules lowercase with words separated by underscores as necessary to improve readability. Use one leading underscore only for non-public methods and instance variables. To avoid name clashes with subclasses, use two leading underscores to invoke Python's name mangling rules.\n",
    "\n",
    "7.\tName three or more ways that functions can communicate results to a caller.\n",
    "\n",
    "Ans: When the task is carried out, the function can or cannot return one or more values. There are three types of functions in Python: Built-in functions, such as help () to ask for help, min() to get the minimum value, print() to print an object to the terminal,… You can find an overview with more of these functions here.\n",
    "\n",
    "\n"
   ]
  }
 ],
 "metadata": {
  "kernelspec": {
   "display_name": "Python 3",
   "language": "python",
   "name": "python3"
  },
  "language_info": {
   "codemirror_mode": {
    "name": "ipython",
    "version": 3
   },
   "file_extension": ".py",
   "mimetype": "text/x-python",
   "name": "python",
   "nbconvert_exporter": "python",
   "pygments_lexer": "ipython3",
   "version": "3.8.5"
  },
  "varInspector": {
   "cols": {
    "lenName": 16,
    "lenType": 16,
    "lenVar": 40
   },
   "kernels_config": {
    "python": {
     "delete_cmd_postfix": "",
     "delete_cmd_prefix": "del ",
     "library": "var_list.py",
     "varRefreshCmd": "print(var_dic_list())"
    },
    "r": {
     "delete_cmd_postfix": ") ",
     "delete_cmd_prefix": "rm(",
     "library": "var_list.r",
     "varRefreshCmd": "cat(var_dic_list()) "
    }
   },
   "types_to_exclude": [
    "module",
    "function",
    "builtin_function_or_method",
    "instance",
    "_Feature"
   ],
   "window_display": false
  }
 },
 "nbformat": 4,
 "nbformat_minor": 5
}
