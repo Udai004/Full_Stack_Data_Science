{
 "cells": [
  {
   "cell_type": "markdown",
   "id": "b345fe59",
   "metadata": {},
   "source": [
    "1. What advantages do Excel spreadsheets have over CSV spreadsheets?\n",
    "2.What do you pass to csv.reader() and csv.writer() to create reader and writer objects?\n",
    "3. What modes do File objects for reader and writer objects need to be opened in?\n",
    "4. What method takes a list argument and writes it to a CSV file?\n",
    "5. What do the keyword arguments delimiter and line terminator do?\n",
    "6. What function takes a string of JSON data and returns a Python data structure?\n",
    "7. What function takes a Python data structure and returns a string of JSON data?"
   ]
  },
  {
   "cell_type": "markdown",
   "id": "eecb94e8",
   "metadata": {},
   "source": [
    "# Answers"
   ]
  },
  {
   "cell_type": "markdown",
   "id": "d7deeae0",
   "metadata": {},
   "source": [
    "1.\tWhat advantages do Excel spreadsheets have over CSV spreadsheets?\n",
    "\n",
    "Ans: In Excel, spreadsheets can have values of data types other than strings.\n",
    "cells can have different fonts, sizes, or colour settings.\n",
    "cells can have varying widths and heights.\n",
    "adjacent cells can be merged and you can embed images and charts. \n",
    "\n",
    "CSV file cannot perform operations on data while Excel can perform operations on the data. \n",
    "\n",
    "CSV files are faster and consumes less memory whereas Excel consumes more memory while importing data. \n",
    "\n",
    "CSV files can be opened with any text editor in windows while Excel files cannot be opened with text editors.\n",
    "\n",
    "\n",
    "2.\tWhat do you pass to csv.reader() and csv.writer() to create reader and writer objects?\n",
    "\n",
    "Ans: We pass a File object, obtained from a call to open().\n",
    "\n",
    "3.\tWhat modes do File objects for reader and writer objects need to be opened in?\n",
    "\n",
    "Ans: File objects need to be opened in read-binary ('rb') for Reader objects and write-binary ('wb') for Writer objects.\n",
    "\n",
    "4.\tWhat method takes a list argument and writes it to a CSV file?\n",
    "\n",
    "Ans: The writerow() method.\n",
    "\n",
    "5.\tWhat do the keyword arguments delimiter and line terminator do?\n",
    "\n",
    "Ans: We can change characters to different values by using the delimiter and line terminator keyword arguments with csv. \n",
    "\n",
    "Passing delimiter='\\t' and line terminator='\\n\\n' changes the character between cells to a tab and the character between rows to two newlines. \n",
    "\n",
    "The delimiter argument changes the string used to separate cells in a row.\n",
    "\n",
    "The line terminator argument changes the string used to separate rows.\n",
    "\n",
    "6.\tWhat function takes a string of JSON data and returns a Python data structure?\n",
    "\n",
    "Ans: json.loads().\n",
    "\n",
    "7.\tWhat function takes a Python data structure and returns a string of JSON data?\n",
    "\n",
    "Ans: json.dumps()\n",
    "\n",
    "\n"
   ]
  },
  {
   "cell_type": "code",
   "execution_count": null,
   "id": "d18db495",
   "metadata": {},
   "outputs": [],
   "source": []
  },
  {
   "cell_type": "code",
   "execution_count": null,
   "id": "2e496efc",
   "metadata": {},
   "outputs": [],
   "source": []
  }
 ],
 "metadata": {
  "kernelspec": {
   "display_name": "Python 3",
   "language": "python",
   "name": "python3"
  },
  "language_info": {
   "codemirror_mode": {
    "name": "ipython",
    "version": 3
   },
   "file_extension": ".py",
   "mimetype": "text/x-python",
   "name": "python",
   "nbconvert_exporter": "python",
   "pygments_lexer": "ipython3",
   "version": "3.8.5"
  },
  "varInspector": {
   "cols": {
    "lenName": 16,
    "lenType": 16,
    "lenVar": 40
   },
   "kernels_config": {
    "python": {
     "delete_cmd_postfix": "",
     "delete_cmd_prefix": "del ",
     "library": "var_list.py",
     "varRefreshCmd": "print(var_dic_list())"
    },
    "r": {
     "delete_cmd_postfix": ") ",
     "delete_cmd_prefix": "rm(",
     "library": "var_list.r",
     "varRefreshCmd": "cat(var_dic_list()) "
    }
   },
   "types_to_exclude": [
    "module",
    "function",
    "builtin_function_or_method",
    "instance",
    "_Feature"
   ],
   "window_display": false
  }
 },
 "nbformat": 4,
 "nbformat_minor": 5
}
