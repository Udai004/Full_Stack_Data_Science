{
 "cells": [
  {
   "cell_type": "markdown",
   "id": "dba1a810",
   "metadata": {},
   "source": [
    "1. Write a Python Program to Display Fibonacci Sequence Using Recursion?\n",
    "2. Write a Python Program to Find Factorial of Number Using Recursion?\n",
    "3. Write a Python Program to calculate your Body Mass Index?\n",
    "4. Write a Python Program to calculate the natural logarithm of any number?\n",
    "5. Write a Python Program for cube sum of first n natural numbers?"
   ]
  },
  {
   "cell_type": "code",
   "execution_count": 1,
   "id": "de409d20",
   "metadata": {},
   "outputs": [
    {
     "name": "stdout",
     "output_type": "stream",
     "text": [
      "enter a positive number: 6\n",
      "0 : 0\n",
      "1 : 1\n",
      "2 : 1\n",
      "3 : 2\n",
      "4 : 3\n",
      "5 : 5\n"
     ]
    }
   ],
   "source": [
    "#1.\n",
    "fibonacci_list = {}\n",
    "def generateFibonacci(number):\n",
    "    # if the value is already stored in the list then just extract from the dictionary and return the value\n",
    "    if number in fibonacci_list:\n",
    "        return fibonacci_list[number]\n",
    "    # compute the number-th value\n",
    "    if number <= 1:\n",
    "        val = number\n",
    "    else:\n",
    "        val = (generateFibonacci(number-1) + generateFibonacci(number-2)) \n",
    "    \n",
    "    # store the value in the list and then return\n",
    "    fibonacci_list[number] = val\n",
    "    return val\n",
    "\n",
    "number = int(input('enter a positive number: '))    \n",
    "if number <= 0:\n",
    "    print('can not find a Fibonacci sequence')\n",
    "else:\n",
    "    for i in range(number):\n",
    "        print(i, \":\" ,generateFibonacci(i))"
   ]
  },
  {
   "cell_type": "code",
   "execution_count": 3,
   "id": "d396b1b4",
   "metadata": {},
   "outputs": [
    {
     "name": "stdout",
     "output_type": "stream",
     "text": [
      "enter a positive number: 3\n",
      "The factorial of 3 is 6\n"
     ]
    }
   ],
   "source": [
    "#2.\n",
    "def factorial(number):\n",
    "    if number == 1:\n",
    "        return number\n",
    "    else:\n",
    "        return number * factorial(number-1)\n",
    "\n",
    "num = int(input('enter a positive number: ')) \n",
    "\n",
    "if num < 0:\n",
    "    print(\"factorial can not be calculated for negative numbers\")\n",
    "elif num == 0:\n",
    "    print(\"The factorial of 0 is 1\")\n",
    "else:\n",
    "    print(\"The factorial of\", num, \"is\", factorial(num))"
   ]
  },
  {
   "cell_type": "code",
   "execution_count": 4,
   "id": "16b40f7d",
   "metadata": {},
   "outputs": [
    {
     "name": "stdout",
     "output_type": "stream",
     "text": [
      "please enter your weight in kg: 85\n",
      "please enter your height in meter: 5\n",
      "your bmi is: 3.4\n"
     ]
    }
   ],
   "source": [
    "#3.\n",
    "def calc_bmi(height, weight):\n",
    "    return(weight/(height**2))\n",
    "\n",
    "weight = float(input('please enter your weight in kg: '))\n",
    "height = float(input('please enter your height in meter: '))\n",
    "print('your bmi is: {}'.format(calc_bmi(height, weight)))"
   ]
  },
  {
   "cell_type": "code",
   "execution_count": 5,
   "id": "e8a9a417",
   "metadata": {},
   "outputs": [
    {
     "name": "stdout",
     "output_type": "stream",
     "text": [
      "please enter a number: 6\n",
      "log of 6.0 is 1.791759469228055: \n"
     ]
    }
   ],
   "source": [
    "#4.\n",
    "import math\n",
    "number = float(input('please enter a number: '))\n",
    "print (\"log of {} is {}: \".format(number,math.log(number)))"
   ]
  },
  {
   "cell_type": "code",
   "execution_count": 8,
   "id": "a289b416",
   "metadata": {},
   "outputs": [
    {
     "name": "stdout",
     "output_type": "stream",
     "text": [
      "please enter a integer number: 5\n",
      "cube sum of first 5 natural numbers is 225 \n"
     ]
    }
   ],
   "source": [
    "#5.\n",
    "number = int(input('please enter a integer number: '))\n",
    "\n",
    "def findSumOfCubes(number):\n",
    "    sum = number* (number+1)/2\n",
    "    return int(sum**2)\n",
    "print (\"cube sum of first {0} natural numbers is {1} \".format(number,findSumOfCubes(number)))"
   ]
  },
  {
   "cell_type": "code",
   "execution_count": null,
   "id": "7639d6df",
   "metadata": {},
   "outputs": [],
   "source": []
  },
  {
   "cell_type": "code",
   "execution_count": null,
   "id": "ee742b23",
   "metadata": {},
   "outputs": [],
   "source": []
  },
  {
   "cell_type": "code",
   "execution_count": null,
   "id": "160e6a62",
   "metadata": {},
   "outputs": [],
   "source": []
  }
 ],
 "metadata": {
  "kernelspec": {
   "display_name": "Python 3",
   "language": "python",
   "name": "python3"
  },
  "language_info": {
   "codemirror_mode": {
    "name": "ipython",
    "version": 3
   },
   "file_extension": ".py",
   "mimetype": "text/x-python",
   "name": "python",
   "nbconvert_exporter": "python",
   "pygments_lexer": "ipython3",
   "version": "3.8.5"
  },
  "varInspector": {
   "cols": {
    "lenName": 16,
    "lenType": 16,
    "lenVar": 40
   },
   "kernels_config": {
    "python": {
     "delete_cmd_postfix": "",
     "delete_cmd_prefix": "del ",
     "library": "var_list.py",
     "varRefreshCmd": "print(var_dic_list())"
    },
    "r": {
     "delete_cmd_postfix": ") ",
     "delete_cmd_prefix": "rm(",
     "library": "var_list.r",
     "varRefreshCmd": "cat(var_dic_list()) "
    }
   },
   "types_to_exclude": [
    "module",
    "function",
    "builtin_function_or_method",
    "instance",
    "_Feature"
   ],
   "window_display": false
  }
 },
 "nbformat": 4,
 "nbformat_minor": 5
}
