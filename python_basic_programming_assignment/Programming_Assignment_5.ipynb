{
 "cells": [
  {
   "cell_type": "markdown",
   "metadata": {},
   "source": [
    "# Assignment 5"
   ]
  },
  {
   "cell_type": "code",
   "execution_count": 7,
   "metadata": {},
   "outputs": [
    {
     "name": "stdout",
     "output_type": "stream",
     "text": [
      "Enter first number: 120\n",
      "Enter second number: 45\n",
      "360\n"
     ]
    }
   ],
   "source": [
    "#To find lcm of 2 numbers:\n",
    "a=int(input(\"Enter first number: \"))\n",
    "b=int(input(\"Enter second number: \"))\n",
    "if a>b:\n",
    "    high=a\n",
    "    low=b\n",
    "else:\n",
    "    high=b\n",
    "    low=a\n",
    "for i in range(high, 100000):\n",
    "    if(i%low==0 and i%high==0):\n",
    "        print(i)\n",
    "        break"
   ]
  },
  {
   "cell_type": "code",
   "execution_count": 4,
   "metadata": {},
   "outputs": [
    {
     "name": "stdout",
     "output_type": "stream",
     "text": [
      "Enter first number: 120\n",
      "Enter seconf number: 28\n",
      "4\n"
     ]
    }
   ],
   "source": [
    "#To find HCF of 2 numbers:\n",
    "a=int(input(\"Enter first number: \"))\n",
    "b=int(input(\"Enter second number: \"))\n",
    "if a>b:\n",
    "    high=a\n",
    "    low=b\n",
    "else:\n",
    "    high=b\n",
    "    low=a\n",
    "for i in range(1,low+1):\n",
    "    if(low%i==0 and high%i==0):\n",
    "        hcf=i\n",
    "print(hcf)"
   ]
  },
  {
   "cell_type": "code",
   "execution_count": 9,
   "metadata": {},
   "outputs": [
    {
     "name": "stdout",
     "output_type": "stream",
     "text": [
      "Enter a decimal number: 334\n",
      "Decimal to binary:  0b101001110\n",
      "Decimal to binary:  0o516\n",
      "Decimal to binary:  0x14e\n"
     ]
    }
   ],
   "source": [
    "#number conversions\n",
    "num=int(input(\"Enter a decimal number: \"))\n",
    "print(\"Decimal to binary: \",bin(num))\n",
    "print(\"Decimal to binary: \",oct(num))\n",
    "print(\"Decimal to binary: \",hex(num))"
   ]
  },
  {
   "cell_type": "code",
   "execution_count": 12,
   "metadata": {},
   "outputs": [
    {
     "name": "stdout",
     "output_type": "stream",
     "text": [
      "Enter a character: a\n",
      "97\n"
     ]
    }
   ],
   "source": [
    "char=input(\"Enter a character: \")\n",
    "if len(char)==1:\n",
    "    print(ord(char))\n",
    "else:\n",
    "    print(\"Invalid character\")"
   ]
  },
  {
   "cell_type": "code",
   "execution_count": 16,
   "metadata": {},
   "outputs": [
    {
     "name": "stdout",
     "output_type": "stream",
     "text": [
      "Enter the first number: 20\n",
      "Enter the secong number: 3\n",
      "Enter the operator(+, -, *, /): /\n",
      "Division is:  6.666666666666667\n"
     ]
    }
   ],
   "source": [
    "#Simple Calculator:\n",
    "a=int(input(\"Enter the first number: \"))\n",
    "b=int(input(\"Enter the secong number: \"))\n",
    "op=input(\"Enter the operator(+, -, *, /): \")\n",
    "if op=='+':\n",
    "    print(\"Addition is: \",a+b)\n",
    "elif op=='-':\n",
    "    print(\"Subtraction is: \",a-b)\n",
    "elif op=='*':\n",
    "    print(\"Multiplication is: \",a*b)\n",
    "elif op=='/':\n",
    "    print(\"Division is: \",a/b)\n",
    "else:\n",
    "    print(\"Invalid operator\")"
   ]
  },
  {
   "cell_type": "code",
   "execution_count": null,
   "metadata": {},
   "outputs": [],
   "source": []
  }
 ],
 "metadata": {
  "kernelspec": {
   "display_name": "Python 3",
   "language": "python",
   "name": "python3"
  },
  "language_info": {
   "codemirror_mode": {
    "name": "ipython",
    "version": 3
   },
   "file_extension": ".py",
   "mimetype": "text/x-python",
   "name": "python",
   "nbconvert_exporter": "python",
   "pygments_lexer": "ipython3",
   "version": "3.8.5"
  }
 },
 "nbformat": 4,
 "nbformat_minor": 4
}
