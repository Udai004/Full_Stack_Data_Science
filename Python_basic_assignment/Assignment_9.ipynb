{
 "cells": [
  {
   "cell_type": "markdown",
   "id": "0a4ebbcb",
   "metadata": {},
   "source": [
    "1. To what does a relative path refer?\n",
    "2. What does an absolute path start with your operating system?\n",
    "3. What do the functions os.getcwd() and os.chdir() do?\n",
    "4. What are the . and .. folders?\n",
    "5. In C:\\bacon\\eggs\\spam.txt, which part is the dir name, and which part is the base name?\n",
    "6. What are the three “mode” arguments that can be passed to the open() function?\n",
    "7. What happens if an existing file is opened in write mode?\n",
    "8. How do you tell the difference between read() and readlines()?\n",
    "9. What data structure does a shelf value resemble?"
   ]
  },
  {
   "cell_type": "markdown",
   "id": "6e75f6a3",
   "metadata": {},
   "source": [
    "## Answers\n"
   ]
  },
  {
   "cell_type": "markdown",
   "id": "0a5f24d0",
   "metadata": {},
   "source": [
    "1. Relative paths are relative to the current working directory.\n",
    "2. Absolute paths start with the root folder, such as / or C:\\."
   ]
  },
  {
   "cell_type": "code",
   "execution_count": 3,
   "id": "7f20b554",
   "metadata": {},
   "outputs": [
    {
     "name": "stdout",
     "output_type": "stream",
     "text": [
      "D:\\I-Neuron\\0_Full_Stack_Data_Science\\Python_basic_assignment\n",
      "None\n"
     ]
    }
   ],
   "source": [
    "#3. The os.getcwd() function returns the current working directory. \n",
    "#   The os.chdir() function changes the current working directory.\n",
    "import os\n",
    "print(os.getcwd())\n",
    "print(os.chdir('D:/I-Neuron/0_Full_Stack_Data_Science/'))"
   ]
  },
  {
   "cell_type": "markdown",
   "id": "49f29158",
   "metadata": {},
   "source": [
    "4. The . folder is the current folder, and .. is the parent folder.\n",
    "5. C:\\bacon\\eggs is the dir name, while spam.txt is the base name.\n",
    "6. The string 'r' for read mode, 'w' for write mode, and 'a' for append mode\n",
    "7. An existing file opened in write mode is erased and completely overwritten.\n",
    "8. The read() method returns the file’s entire contents as a single string value. The readlines() method returns a list of strings, where each string is a line from the file’s contents.\n",
    "\n",
    "9. A shelf value resembles a dictionary value; it has keys and values, along with keys() and values() methods that work similarly to the dictionary methods of the same names."
   ]
  },
  {
   "cell_type": "code",
   "execution_count": null,
   "id": "8c9b2c5b",
   "metadata": {},
   "outputs": [],
   "source": []
  },
  {
   "cell_type": "code",
   "execution_count": null,
   "id": "6d2bb888",
   "metadata": {},
   "outputs": [],
   "source": []
  }
 ],
 "metadata": {
  "kernelspec": {
   "display_name": "Python 3",
   "language": "python",
   "name": "python3"
  },
  "language_info": {
   "codemirror_mode": {
    "name": "ipython",
    "version": 3
   },
   "file_extension": ".py",
   "mimetype": "text/x-python",
   "name": "python",
   "nbconvert_exporter": "python",
   "pygments_lexer": "ipython3",
   "version": "3.8.5"
  },
  "varInspector": {
   "cols": {
    "lenName": 16,
    "lenType": 16,
    "lenVar": 40
   },
   "kernels_config": {
    "python": {
     "delete_cmd_postfix": "",
     "delete_cmd_prefix": "del ",
     "library": "var_list.py",
     "varRefreshCmd": "print(var_dic_list())"
    },
    "r": {
     "delete_cmd_postfix": ") ",
     "delete_cmd_prefix": "rm(",
     "library": "var_list.r",
     "varRefreshCmd": "cat(var_dic_list()) "
    }
   },
   "types_to_exclude": [
    "module",
    "function",
    "builtin_function_or_method",
    "instance",
    "_Feature"
   ],
   "window_display": false
  }
 },
 "nbformat": 4,
 "nbformat_minor": 5
}
