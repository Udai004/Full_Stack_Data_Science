{
 "cells": [
  {
   "cell_type": "markdown",
   "id": "5a371ebf",
   "metadata": {},
   "source": [
    "1. Write a Python program to find words which are greater than given length k?\n",
    "2. Write a Python program for removing i-th character from a string?\n",
    "3. Write a Python program to split and join a string?\n",
    "4. Write a Python to check if a given string is binary string or not?\n",
    "5. Write a Python program to find uncommon words from two Strings?\n",
    "6. Write a Python to find all duplicate characters in string?\n",
    "7. Write a Python Program to check if a string contains any special character?"
   ]
  },
  {
   "cell_type": "code",
   "execution_count": 2,
   "id": "c416ca13",
   "metadata": {},
   "outputs": [
    {
     "name": "stdout",
     "output_type": "stream",
     "text": [
      "please enter the length of the word: 5\n",
      "words with length more than 5 is given below:\n",
      "['Machine', 'learning', 'method', 'analysis', 'automates', 'analytical', 'building.', 'branch', 'artificial', 'intelligence', 'systems', 'identify', 'patterns', 'decisions', 'minimal', 'intervention.']\n"
     ]
    }
   ],
   "source": [
    "#1\n",
    "paragraph = \"Machine learning is a method of data analysis that automates analytical model building. It is a branch of artificial intelligence based on the idea that systems can learn from data, identify patterns and make decisions with minimal human intervention.\"\n",
    "\n",
    "length = int(input(\"please enter the length of the word: \"))\n",
    "paragraph = paragraph.split()\n",
    "newWordList = []\n",
    "for word in paragraph:\n",
    "    if len(word) > length:\n",
    "        newWordList.append(word)\n",
    "print('words with length more than {} is given below:\\n{}'.format(length, newWordList))"
   ]
  },
  {
   "cell_type": "code",
   "execution_count": 3,
   "id": "8f71b46e",
   "metadata": {},
   "outputs": [
    {
     "name": "stdout",
     "output_type": "stream",
     "text": [
      "enter the position of character whch you want to delete: 4\n",
      "New string after removing the character from the position 4 is given below:\n",
      "The ay of Bengal occupies an area of 2,600,000 square kilometres (1,000,000 sq mi). \n"
     ]
    }
   ],
   "source": [
    "#2\n",
    "string = \"The Bay of Bengal occupies an area of 2,600,000 square kilometres (1,000,000 sq mi). \"\n",
    "pos = int(input(\"enter the position of character whch you want to delete: \"))\n",
    "string = string[:pos]+string[pos+1:]\n",
    "string = \"\".join(string)\n",
    "print('New string after removing the character from the position {} is given below:\\n{}'.format(pos, string))"
   ]
  },
  {
   "cell_type": "code",
   "execution_count": 5,
   "id": "bee9ffce",
   "metadata": {},
   "outputs": [
    {
     "name": "stdout",
     "output_type": "stream",
     "text": [
      "string before split is: The Bay of Bengal occupies an area of 2,600,000 square kilometres (1,000,000 sq mi). \n",
      "string after split is: ['The', 'Bay', 'of', 'Bengal', 'occupies', 'an', 'area', 'of', '2,600,000', 'square', 'kilometres', '(1,000,000', 'sq', 'mi).']\n",
      "enter a separator to join a string: ####\n",
      "string after join using separator '####' is: The####Bay####of####Bengal####occupies####an####area####of####2,600,000####square####kilometres####(1,000,000####sq####mi).\n"
     ]
    }
   ],
   "source": [
    "#3\n",
    "string = \"The Bay of Bengal occupies an area of 2,600,000 square kilometres (1,000,000 sq mi). \"\n",
    "print(\"string before split is: {}\".format(string))\n",
    "string = string.split()\n",
    "print(\"string after split is: {}\".format(string))\n",
    "separator = input('enter a separator to join a string: ')\n",
    "string = separator.join(string)\n",
    "print(\"string after join using separator '{}' is: {}\".format(separator,string))"
   ]
  },
  {
   "cell_type": "code",
   "execution_count": 7,
   "id": "925f38e3",
   "metadata": {},
   "outputs": [
    {
     "name": "stdout",
     "output_type": "stream",
     "text": [
      "string is binary\n"
     ]
    }
   ],
   "source": [
    "#4\n",
    "string = \"101010101010\"\n",
    "def isbinarystr(string):\n",
    "    flag  = True\n",
    "    for i in string:\n",
    "        if i != '0' and i != '1':\n",
    "            flag = False\n",
    "            break\n",
    "    if flag:\n",
    "        print(\"string is binary\")\n",
    "    else:\n",
    "        print(\"string is not binary\")\n",
    "isbinarystr(string)"
   ]
  },
  {
   "cell_type": "code",
   "execution_count": 8,
   "id": "de09b01d",
   "metadata": {},
   "outputs": [
    {
     "name": "stdout",
     "output_type": "stream",
     "text": [
      "uncommon words betwen two string are: ['Hritik', 'Amitabh']\n"
     ]
    }
   ],
   "source": [
    "#5\n",
    "string1 = \"My name is Hritik\"\n",
    "string1 = string1.split()\n",
    "string2 = \"My name is Amitabh\"\n",
    "string2 = string2.split()\n",
    "uncommonList = []\n",
    "for i in string1:\n",
    "    if i not in string2 and i not in uncommonList:\n",
    "        uncommonList.append(i)\n",
    "for i in string2:\n",
    "    if i not in string1 and i not in uncommonList:\n",
    "        uncommonList.append(i)\n",
    "print(\"uncommon words betwen two string are: {}\".format(uncommonList))"
   ]
  },
  {
   "cell_type": "code",
   "execution_count": 9,
   "id": "cab1b29a",
   "metadata": {},
   "outputs": [
    {
     "name": "stdout",
     "output_type": "stream",
     "text": [
      "duplicate characters in string are: [' ', 'i']\n"
     ]
    }
   ],
   "source": [
    "#6\n",
    "string = \"My name is Hritik\"\n",
    "duplicateList = []\n",
    "for i in string:\n",
    "    if string.count(i) > 1 and i not in duplicateList:\n",
    "        duplicateList.append(i)\n",
    "print(\"duplicate characters in string are: {}\".format(duplicateList))"
   ]
  },
  {
   "cell_type": "code",
   "execution_count": 10,
   "id": "55226cca",
   "metadata": {},
   "outputs": [
    {
     "name": "stdout",
     "output_type": "stream",
     "text": [
      "special characters in string are: ['#', '%', '^', '&', '*', '!', '@']\n"
     ]
    }
   ],
   "source": [
    "#7\n",
    "import re\n",
    "string = \"My #%^&name%&* is !@Hritik\"\n",
    "special_characters_list = []\n",
    "special_characters = re.compile('[@_!#$%^&*()<>?/\\|}{~:]')\n",
    "for i in string:\n",
    "    if special_characters.search(i) and i not in special_characters_list:\n",
    "        special_characters_list.append(i)\n",
    "print(\"special characters in string are: {}\".format(special_characters_list))\n"
   ]
  },
  {
   "cell_type": "code",
   "execution_count": null,
   "id": "e3a23bdb",
   "metadata": {},
   "outputs": [],
   "source": []
  },
  {
   "cell_type": "code",
   "execution_count": null,
   "id": "79a5276c",
   "metadata": {},
   "outputs": [],
   "source": []
  },
  {
   "cell_type": "code",
   "execution_count": null,
   "id": "53b0561c",
   "metadata": {},
   "outputs": [],
   "source": []
  },
  {
   "cell_type": "code",
   "execution_count": null,
   "id": "e64c711a",
   "metadata": {},
   "outputs": [],
   "source": []
  },
  {
   "cell_type": "code",
   "execution_count": null,
   "id": "97af94e6",
   "metadata": {},
   "outputs": [],
   "source": []
  },
  {
   "cell_type": "code",
   "execution_count": null,
   "id": "16ce31ab",
   "metadata": {},
   "outputs": [],
   "source": []
  },
  {
   "cell_type": "code",
   "execution_count": null,
   "id": "e1ebd51b",
   "metadata": {},
   "outputs": [],
   "source": []
  },
  {
   "cell_type": "code",
   "execution_count": null,
   "id": "76ce2f7e",
   "metadata": {},
   "outputs": [],
   "source": []
  },
  {
   "cell_type": "code",
   "execution_count": null,
   "id": "61cf98ba",
   "metadata": {},
   "outputs": [],
   "source": []
  },
  {
   "cell_type": "code",
   "execution_count": null,
   "id": "693aae59",
   "metadata": {},
   "outputs": [],
   "source": []
  },
  {
   "cell_type": "code",
   "execution_count": null,
   "id": "4f6a695f",
   "metadata": {},
   "outputs": [],
   "source": []
  },
  {
   "cell_type": "code",
   "execution_count": null,
   "id": "cedc516d",
   "metadata": {},
   "outputs": [],
   "source": []
  },
  {
   "cell_type": "code",
   "execution_count": null,
   "id": "baef20c2",
   "metadata": {},
   "outputs": [],
   "source": []
  }
 ],
 "metadata": {
  "kernelspec": {
   "display_name": "Python 3",
   "language": "python",
   "name": "python3"
  },
  "language_info": {
   "codemirror_mode": {
    "name": "ipython",
    "version": 3
   },
   "file_extension": ".py",
   "mimetype": "text/x-python",
   "name": "python",
   "nbconvert_exporter": "python",
   "pygments_lexer": "ipython3",
   "version": "3.8.5"
  },
  "varInspector": {
   "cols": {
    "lenName": 16,
    "lenType": 16,
    "lenVar": 40
   },
   "kernels_config": {
    "python": {
     "delete_cmd_postfix": "",
     "delete_cmd_prefix": "del ",
     "library": "var_list.py",
     "varRefreshCmd": "print(var_dic_list())"
    },
    "r": {
     "delete_cmd_postfix": ") ",
     "delete_cmd_prefix": "rm(",
     "library": "var_list.r",
     "varRefreshCmd": "cat(var_dic_list()) "
    }
   },
   "types_to_exclude": [
    "module",
    "function",
    "builtin_function_or_method",
    "instance",
    "_Feature"
   ],
   "window_display": false
  }
 },
 "nbformat": 4,
 "nbformat_minor": 5
}
