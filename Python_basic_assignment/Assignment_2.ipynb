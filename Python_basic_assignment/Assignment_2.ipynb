{
 "cells": [
  {
   "cell_type": "markdown",
   "metadata": {},
   "source": [
    "# ASSIGNMENT 2 - ANSWERS"
   ]
  },
  {
   "cell_type": "markdown",
   "metadata": {},
   "source": [
    "1. Boolean data types are of 2 types viz.\n",
    "   True --> logic 1\n",
    "   False --> logic 0\n",
    "   The first letter should be capital while writing these values."
   ]
  },
  {
   "cell_type": "markdown",
   "metadata": {},
   "source": [
    "2. and, or and not are three different operators on boolean data types.\n",
    "   we can also perform +, - and * operators on boolean data types."
   ]
  },
  {
   "cell_type": "markdown",
   "metadata": {},
   "source": [
    "3. AND -- > If any one operand is false, the result will be false.\n",
    "  A      B        A and B\n",
    "  True   True      True \n",
    "  True   False     False\n",
    "  False  True      False\n",
    "  False  False     False\n",
    "  \n",
    "  OR --> If any one operand is true, the result will be true.\n",
    "  A      B         A or B\n",
    "  True   True       True\n",
    "  True   False      True\n",
    "  False  True       True\n",
    "  False  False      False\n",
    "  \n",
    "  \n",
    "  NOT --> performs negation of operand\n",
    "  \n",
    "  A      not(A)\n",
    "  True    False\n",
    "  False   True"
   ]
  },
  {
   "cell_type": "markdown",
   "metadata": {},
   "source": [
    "4. False\n",
    "   False\n",
    "   True\n",
    "   False\n",
    "   False\n",
    "   True"
   ]
  },
  {
   "cell_type": "markdown",
   "metadata": {},
   "source": [
    "5. assignment operator  =,=+,=-,\n",
    "   arithmetic operators +,-,%,/,*,//\n",
    "   logical operators   and or not\n",
    "   bitwise operators    &,|,^,~ \n",
    "   relational operators >, <, >=,<=, ==\n",
    "   membership operartors    in, not in"
   ]
  },
  {
   "cell_type": "markdown",
   "metadata": {},
   "source": [
    "6. Equal to uses two equal to operarators ==\n",
    "assignment operarator uses single equal to operarator =\n",
    "equal to checks for the condition, if the values are equal, the output is true.\n",
    "Equal to returns boolean object unlike assignemnt operartor.\n",
    "Assignment operartor is used to assign any data to the variable.\n",
    "\n",
    "ex1: x=5 ---> 5 is assigned to the variable x\n",
    "ex2: x==5 ---> True "
   ]
  },
  {
   "cell_type": "markdown",
   "metadata": {},
   "source": [
    "7. Condition is a decision making statement is a flow of program.\n",
    "   Ex- to predict the grades according to the given marks we use conditions.\n",
    "   if marks>90:\n",
    "      print('A')\n",
    "   elif marks>80:\n",
    "      print ('B')\n",
    "   else: \n",
    "       print('C')"
   ]
  },
  {
   "cell_type": "markdown",
   "metadata": {},
   "source": [
    "8. 3 sections in the program are:\n",
    "   1. if == equal to condition\n",
    "   2. if > greater than condition\n",
    "   3. else condition which is followed by second if condition."
   ]
  },
  {
   "cell_type": "code",
   "execution_count": 1,
   "metadata": {},
   "outputs": [
    {
     "name": "stdout",
     "output_type": "stream",
     "text": [
      "enter a number between 1 to 5 -- 2\n",
      "howdy\n"
     ]
    }
   ],
   "source": [
    "spam = int(input(\"enter a number between 1 to 5 -- \"))\n",
    "if spam == 1:\n",
    "    print(\"hello\")\n",
    "elif spam == 2:\n",
    "    print(\"howdy\")\n",
    "elif spam == 3:\n",
    "    print(\"Salutations!\")\n",
    "else:\n",
    "    print(\"Something else..\")"
   ]
  },
  {
   "cell_type": "markdown",
   "metadata": {},
   "source": [
    "10. we have to press ctrl+C to exit from the infinite loop."
   ]
  },
  {
   "cell_type": "markdown",
   "metadata": {},
   "source": [
    "11. Break - terminates the loop.\n",
    "    Continue - skips the condition and executes from the next condition."
   ]
  },
  {
   "cell_type": "code",
   "execution_count": 3,
   "metadata": {},
   "outputs": [
    {
     "name": "stdout",
     "output_type": "stream",
     "text": [
      "0\n",
      "1\n",
      "2\n",
      "3\n",
      "5\n"
     ]
    }
   ],
   "source": [
    "for i in range(0,10):\n",
    "    if i==4:\n",
    "        continue\n",
    "    elif i==6:\n",
    "        break\n",
    "    else: \n",
    "        print(i)"
   ]
  },
  {
   "cell_type": "markdown",
   "metadata": {},
   "source": [
    "12. range has 3 parameters:\n",
    "range(start index, stop index, step size)\n",
    "By default, start index is 0, step size is 1.\n",
    "1. range(10) --> start index=0, stop index=10, step size=1\n",
    "   output will be -- 0,1,2,3,4,5,6,7,8,9\n",
    "2. range(0,10) --> start index=0, stop index=10, step size=1\n",
    "   output will be --- 0,1,2,3,4,5,6,7,8,9\n",
    "3. range(0,10,1) --> start index=0,stop index=10, step size=1\n",
    "   output will be --- 0,1,2,3,4,5,6,7,8,9"
   ]
  },
  {
   "cell_type": "code",
   "execution_count": 8,
   "metadata": {},
   "outputs": [
    {
     "name": "stdout",
     "output_type": "stream",
     "text": [
      "0 1 2 3 4 5 6 7 8 9 \r\n",
      "0 1 2 3 4 5 6 7 8 9 \r\n",
      "0 1 2 3 4 5 6 7 8 9 "
     ]
    }
   ],
   "source": [
    "for i in range(10):\n",
    "    print (i, end=\" \")\n",
    "print(\"\\r\")\n",
    "for j in range(0,10):\n",
    "    print(j, end=\" \")\n",
    "print(\"\\r\")\n",
    "for k in range(0,10,1):\n",
    "    print(k, end=\" \")"
   ]
  },
  {
   "cell_type": "code",
   "execution_count": 3,
   "metadata": {},
   "outputs": [
    {
     "name": "stdout",
     "output_type": "stream",
     "text": [
      "Using for loop --\n",
      "1 2 3 4 5 6 7 8 9 10 \r\n",
      "Using while loop --\n",
      "1 2 3 4 5 6 7 8 9 10 "
     ]
    }
   ],
   "source": [
    "print(\"Using for loop --\")\n",
    "for i in range(1,11):\n",
    "    print (i, end=\" \")\n",
    "print(\"\\r\")\n",
    "print(\"Using while loop --\")\n",
    "j=1\n",
    "while j<11:\n",
    "    print(j, end=\" \")\n",
    "    j=j+1"
   ]
  },
  {
   "cell_type": "markdown",
   "metadata": {},
   "source": [
    "14. spam.bacon()\n",
    "    spam is the module name and bacon() is the function defined inside that module."
   ]
  }
 ],
 "metadata": {
  "kernelspec": {
   "display_name": "Python 3",
   "language": "python",
   "name": "python3"
  },
  "language_info": {
   "codemirror_mode": {
    "name": "ipython",
    "version": 3
   },
   "file_extension": ".py",
   "mimetype": "text/x-python",
   "name": "python",
   "nbconvert_exporter": "python",
   "pygments_lexer": "ipython3",
   "version": "3.8.5"
  }
 },
 "nbformat": 4,
 "nbformat_minor": 4
}
