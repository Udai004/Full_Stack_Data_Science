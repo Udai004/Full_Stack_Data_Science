{
 "cells": [
  {
   "cell_type": "markdown",
   "id": "66312c04",
   "metadata": {},
   "source": [
    "1. Write a Python program to check if the given number is a Disarium Number?\n",
    "2. Write a Python program to print all disarium numbers between 1 to 100?\n",
    "3. Write a Python program to check if the given number is Happy Number?\n",
    "4. Write a Python program to print all happy numbers between 1 and 100?\n",
    "5. Write a Python program to determine whether the given number is a Harshad Number?\n",
    "6. Write a Python program to print all pronic numbers between 1 and 100?"
   ]
  },
  {
   "cell_type": "code",
   "execution_count": 2,
   "id": "35d1bbfd",
   "metadata": {},
   "outputs": [
    {
     "name": "stdout",
     "output_type": "stream",
     "text": [
      "Please enter a number: 255\n",
      "Number is not a Disarium\n"
     ]
    }
   ],
   "source": [
    "#1\n",
    "# Disarium number : A number is called Disarium if sum of its digits powered with \n",
    "# their respective positions is equal to the number itself.\n",
    "\n",
    "#Eg : Input   : n = 89\n",
    "#Output  : Yes \n",
    "#8^1+9^2 = 89\n",
    "#Therefore, 89 is a Disarium number\n",
    "\n",
    "#Input   : n = 80\n",
    "#Output  : No\n",
    "#8^1 + 0^2 = 8\n",
    "\n",
    "\n",
    "number = int(input('Please enter a number: '))\n",
    "numberCopy = number\n",
    "sum = 0\n",
    "def getNumberofDigits(number):\n",
    "    reminderList = []\n",
    "    length = 0\n",
    "    while(number!=0):\n",
    "        rem = number%10\n",
    "        number = number//10\n",
    "        length = length + 1\n",
    "        reminderList.append(rem)\n",
    "    reminderList.reverse()\n",
    "    return reminderList    \n",
    "\n",
    "rem_list = getNumberofDigits(number)\n",
    "\n",
    "for index, item in enumerate(rem_list):\n",
    "    sum = sum + item**(index+1)\n",
    "    \n",
    "if sum == numberCopy:\n",
    "    print('Number is Disarium')\n",
    "else:\n",
    "    print('Number is not a Disarium')\n"
   ]
  },
  {
   "cell_type": "code",
   "execution_count": 3,
   "id": "bd852932",
   "metadata": {},
   "outputs": [
    {
     "name": "stdout",
     "output_type": "stream",
     "text": [
      "1\n",
      "2\n",
      "3\n",
      "4\n",
      "5\n",
      "6\n",
      "7\n",
      "8\n",
      "9\n",
      "89\n"
     ]
    }
   ],
   "source": [
    "#2\n",
    "def checkDisarium(number):\n",
    "    reminderList = []\n",
    "    length = 0\n",
    "    sum = 0\n",
    "    numberCopy = number\n",
    "    while(number!=0):\n",
    "        rem = number%10\n",
    "        number = number//10\n",
    "        length = length + 1\n",
    "        reminderList.append(rem)\n",
    "    reminderList.reverse()\n",
    "\n",
    "    for index, item in enumerate(reminderList):\n",
    "        sum = sum + item**(index+1)\n",
    "        \n",
    "    if sum == numberCopy:\n",
    "        print(numberCopy)\n",
    "        \n",
    "    return\n",
    "\n",
    "lower = 1\n",
    "upper = 100   \n",
    "for i in range(lower, upper + 1):\n",
    "    checkDisarium(i)"
   ]
  },
  {
   "cell_type": "code",
   "execution_count": 4,
   "id": "b2b7fba7",
   "metadata": {},
   "outputs": [
    {
     "name": "stdout",
     "output_type": "stream",
     "text": [
      "Please enter a number: 55\n",
      "The number is not a happy number.\n"
     ]
    }
   ],
   "source": [
    "#3\n",
    "# In number theory, a happy number is a number which eventually reaches 1 \n",
    "# when replaced by the sum of the square of each digit. For instance, 13 is a happy number because , and . \n",
    "# On the other hand, 4 is not a happy number because the sequence starting with and eventually reaches.\n",
    "number = int(input('Please enter a number: '))\n",
    "def checkIfHappy(number):\n",
    "    sum = 0\n",
    "    while(number!=0):\n",
    "        rem = number%10\n",
    "        number = number//10\n",
    "        sum = sum + (rem**2)\n",
    "    return sum\n",
    "\n",
    "result = checkIfHappy(number)\n",
    "while (result!=1 and result!=4):\n",
    "    result = checkIfHappy(result)\n",
    "if result == 1:\n",
    "    print('The number is happy number.')\n",
    "elif result == 4:\n",
    "    print('The number is not a happy number.')"
   ]
  },
  {
   "cell_type": "code",
   "execution_count": 5,
   "id": "61facc64",
   "metadata": {},
   "outputs": [
    {
     "name": "stdout",
     "output_type": "stream",
     "text": [
      "1\n",
      "7\n",
      "10\n",
      "13\n",
      "19\n",
      "23\n",
      "28\n",
      "31\n",
      "32\n",
      "44\n",
      "49\n",
      "68\n",
      "70\n",
      "79\n",
      "82\n",
      "86\n",
      "91\n",
      "94\n",
      "97\n",
      "100\n"
     ]
    }
   ],
   "source": [
    "#4\n",
    "def checkIfHappy(number):\n",
    "    sum = 0\n",
    "    while(number!=0):\n",
    "        rem = number%10\n",
    "        number = number//10\n",
    "        sum = sum + (rem**2)\n",
    "    return sum\n",
    "\n",
    "lower = 1\n",
    "upper = 100   \n",
    "for i in range(lower, upper + 1):\n",
    "    result = checkIfHappy(i)\n",
    "    while (result!=1 and result!=4):\n",
    "        result = checkIfHappy(result)\n",
    "    if result == 1:\n",
    "        print(i)"
   ]
  },
  {
   "cell_type": "code",
   "execution_count": 7,
   "id": "37724c42",
   "metadata": {},
   "outputs": [
    {
     "name": "stdout",
     "output_type": "stream",
     "text": [
      "Please enter a number: 120\n",
      "Number is Harshad\n"
     ]
    }
   ],
   "source": [
    "#5\n",
    "# A number is said to be the Harshad number if it is divisible by the sum of its digit.\n",
    "\n",
    "# For example, if number is 156, then sum of its digit will be 1 + 5 + 6 = 12. \n",
    "# Since 156 is divisible by 12. So, 156 is a Harshad number.\n",
    "\n",
    "# Some of the other examples of Harshad number are 8, 54, 120, etc.\n",
    "\n",
    "number = int(input('Please enter a number: '))\n",
    "def checkIfHarshad(number):\n",
    "    sum = 0\n",
    "    numberCopy = number\n",
    "    while(number!=0):\n",
    "        rem = number%10\n",
    "        number = number//10\n",
    "        sum = sum + rem\n",
    "        \n",
    "    if numberCopy%sum == 0:\n",
    "        print('Number is Harshad')\n",
    "    else:\n",
    "        print('Number is not a Harshad')\n",
    "    \n",
    "checkIfHarshad(number)  "
   ]
  },
  {
   "cell_type": "code",
   "execution_count": 8,
   "id": "bd2d1827",
   "metadata": {},
   "outputs": [
    {
     "name": "stdout",
     "output_type": "stream",
     "text": [
      "2\n",
      "6\n",
      "12\n",
      "20\n",
      "30\n",
      "42\n",
      "56\n",
      "72\n",
      "90\n"
     ]
    }
   ],
   "source": [
    "#6\n",
    "import math\n",
    "def checkIfPronic(number):\n",
    "    temp = 0\n",
    "    while(temp <= int(math.sqrt(number))):\n",
    "        if number == (temp*(temp+1)):\n",
    "            return True\n",
    "        temp = temp + 1\n",
    "    return False\n",
    "\n",
    "lower = 1\n",
    "upper = 100   \n",
    "for i in range(lower, upper + 1):\n",
    "    if checkIfPronic(i):\n",
    "        print(i)"
   ]
  },
  {
   "cell_type": "code",
   "execution_count": null,
   "id": "0fb257a5",
   "metadata": {},
   "outputs": [],
   "source": []
  },
  {
   "cell_type": "code",
   "execution_count": null,
   "id": "6f052e55",
   "metadata": {},
   "outputs": [],
   "source": []
  },
  {
   "cell_type": "code",
   "execution_count": null,
   "id": "3f78a934",
   "metadata": {},
   "outputs": [],
   "source": []
  },
  {
   "cell_type": "code",
   "execution_count": null,
   "id": "e38623b6",
   "metadata": {},
   "outputs": [],
   "source": []
  },
  {
   "cell_type": "code",
   "execution_count": null,
   "id": "a902ada3",
   "metadata": {},
   "outputs": [],
   "source": []
  }
 ],
 "metadata": {
  "kernelspec": {
   "display_name": "Python 3",
   "language": "python",
   "name": "python3"
  },
  "language_info": {
   "codemirror_mode": {
    "name": "ipython",
    "version": 3
   },
   "file_extension": ".py",
   "mimetype": "text/x-python",
   "name": "python",
   "nbconvert_exporter": "python",
   "pygments_lexer": "ipython3",
   "version": "3.8.5"
  },
  "varInspector": {
   "cols": {
    "lenName": 16,
    "lenType": 16,
    "lenVar": 40
   },
   "kernels_config": {
    "python": {
     "delete_cmd_postfix": "",
     "delete_cmd_prefix": "del ",
     "library": "var_list.py",
     "varRefreshCmd": "print(var_dic_list())"
    },
    "r": {
     "delete_cmd_postfix": ") ",
     "delete_cmd_prefix": "rm(",
     "library": "var_list.r",
     "varRefreshCmd": "cat(var_dic_list()) "
    }
   },
   "types_to_exclude": [
    "module",
    "function",
    "builtin_function_or_method",
    "instance",
    "_Feature"
   ],
   "window_display": false
  }
 },
 "nbformat": 4,
 "nbformat_minor": 5
}
