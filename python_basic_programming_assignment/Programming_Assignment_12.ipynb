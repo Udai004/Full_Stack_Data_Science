{
 "cells": [
  {
   "cell_type": "markdown",
   "id": "61f95526",
   "metadata": {},
   "source": [
    "1. Write a Python program to Extract Unique values dictionary values?\n",
    "2. Write a Python program to find the sum of all items in a dictionary?\n",
    "3. Write a Python program to Merging two Dictionaries?\n",
    "4. Write a Python program to convert key-values list to flat dictionary?\n",
    "5. Write a Python program to insertion at the beginning in OrderedDict?\n",
    "6. Write a Python program to check order of character in string using OrderedDict()?\n",
    "7. Write a Python program to sort Python Dictionaries by Key or Value?"
   ]
  },
  {
   "cell_type": "code",
   "execution_count": 1,
   "id": "eeaf59c0",
   "metadata": {},
   "outputs": [
    {
     "name": "stdout",
     "output_type": "stream",
     "text": [
      " Unique values dictionary values are {1, 2, 3, 4, 5}\n"
     ]
    }
   ],
   "source": [
    "#1\n",
    "dict = {}\n",
    "dict['a'] = 1\n",
    "dict['b'] = 2\n",
    "dict['c'] = 3\n",
    "dict['d'] = 1\n",
    "dict['e'] = 4\n",
    "dict['f'] = 5\n",
    "print(\" Unique values dictionary values are {}\".format(set(dict.values())))"
   ]
  },
  {
   "cell_type": "code",
   "execution_count": 2,
   "id": "0dfdd010",
   "metadata": {},
   "outputs": [
    {
     "name": "stdout",
     "output_type": "stream",
     "text": [
      "16\n"
     ]
    }
   ],
   "source": [
    "#2\n",
    "dict = {}\n",
    "dict['a'] = 1\n",
    "dict['b'] = 2\n",
    "dict['c'] = 3\n",
    "dict['d'] = 1\n",
    "dict['e'] = 4\n",
    "dict['f'] = 5\n",
    "sum = 0\n",
    "for item in dict.items():\n",
    "    sum = sum + item[1]\n",
    "print(sum)"
   ]
  },
  {
   "cell_type": "code",
   "execution_count": 3,
   "id": "d4cbf474",
   "metadata": {},
   "outputs": [
    {
     "name": "stdout",
     "output_type": "stream",
     "text": [
      "Dictionary after merge: {'a': 1, 'b': 2, 'c': 3, 'd': 1, 'e': 4, 'f': 5, 'g': 1, 'h': 2, 'i': 3, 'j': 1, 'k': 4, 'l': 5}\n"
     ]
    }
   ],
   "source": [
    "#3\n",
    "dict1 = {}\n",
    "dict1['a'] = 1\n",
    "dict1['b'] = 2\n",
    "dict1['c'] = 3\n",
    "dict1['d'] = 1\n",
    "dict1['e'] = 4\n",
    "dict1['f'] = 5\n",
    "\n",
    "dict2 = {}\n",
    "dict2['g'] = 1\n",
    "dict2['h'] = 2\n",
    "dict2['i'] = 3\n",
    "dict2['j'] = 1\n",
    "dict2['k'] = 4\n",
    "dict2['l'] = 5\n",
    "\n",
    "dict = {**dict1, **dict2}\n",
    "print('Dictionary after merge: {}'.format(dict))"
   ]
  },
  {
   "cell_type": "code",
   "execution_count": 4,
   "id": "743df732",
   "metadata": {},
   "outputs": [
    {
     "name": "stdout",
     "output_type": "stream",
     "text": [
      "{'Andhra Pradesh': 'Hyderabad', 'Bihar': 'Patna', 'Chhattisgarh': 'Raipur'}\n"
     ]
    }
   ],
   "source": [
    "#4\n",
    "from itertools import product\n",
    "dict1 = {'states':['Andhra Pradesh', 'Bihar', 'Chhattisgarh'],'capitals':['Hyderabad', 'Patna', 'Raipur']}\n",
    "x = zip(tuple(dict1['states']),tuple(dict1['capitals']))\n",
    "y = tuple(x)\n",
    "state_capital_dict = {}\n",
    "for i in y:\n",
    "    state_capital_dict[i[0]] = i[1]\n",
    "print(state_capital_dict)"
   ]
  },
  {
   "cell_type": "code",
   "execution_count": 5,
   "id": "fa600bdf",
   "metadata": {},
   "outputs": [
    {
     "name": "stdout",
     "output_type": "stream",
     "text": [
      "original ordered dictionary: OrderedDict([('one', 1), ('two', 2), ('three', 3)])\n",
      "ordered dictionary after inserting 'zero':'0' is: OrderedDict([('zero', '0'), ('one', 1), ('two', 2), ('three', 3)])\n"
     ]
    }
   ],
   "source": [
    "#5\n",
    "from collections import OrderedDict\n",
    "numbers = OrderedDict([(\"one\", 1), (\"two\", 2), (\"three\", 3)])\n",
    "print('original ordered dictionary: {}'.format(numbers))\n",
    "numbers.update({'zero':'0'})\n",
    "numbers.move_to_end('zero', last = False)\n",
    "print(\"ordered dictionary after inserting 'zero':'0' is: {}\".format(numbers))"
   ]
  },
  {
   "cell_type": "code",
   "execution_count": 6,
   "id": "075b5c6d",
   "metadata": {},
   "outputs": [
    {
     "name": "stdout",
     "output_type": "stream",
     "text": [
      "The order of 'en' pattern in 'i am an engineer' string is not in same order\n"
     ]
    }
   ],
   "source": [
    "#6\n",
    "from collections import OrderedDict\n",
    "inp_str = 'i am an engineer'\n",
    "str_dict = OrderedDict.fromkeys(inp_str) \n",
    "ch_pattern = 'en'\n",
    "count = 0\n",
    "flag = False\n",
    "for key,value in str_dict.items():\n",
    "    if key == ch_pattern[count]:\n",
    "        count = count + 1\n",
    "    if count == len(ch_pattern):        \n",
    "        flag = True\n",
    "        break\n",
    "if flag == True:\n",
    "    print(\"The order of '{}' pattern in '{}' string is in same order\".format(ch_pattern,inp_str))\n",
    "else:\n",
    "    print(\"The order of '{}' pattern in '{}' string is not in same order\".format(ch_pattern,inp_str))"
   ]
  },
  {
   "cell_type": "code",
   "execution_count": 7,
   "id": "7057f0f6",
   "metadata": {},
   "outputs": [
    {
     "name": "stdout",
     "output_type": "stream",
     "text": [
      "Original dictionary is {1: 11, 4: 99, 5: 8, 2: 2, 0: 1, 9: 13}\n",
      "dictionary sorted by key: \n",
      "[('g', 1), ('h', 2), ('i', 3), ('j', 1), ('k', 4), ('l', 5)]\n",
      "\n",
      "dictionary sorted by value: \n",
      "[(0, 1), (2, 2), (5, 8), (1, 11), (9, 13), (4, 99)]\n"
     ]
    }
   ],
   "source": [
    "#7\n",
    "dict1 = {}\n",
    "dict1[1] = 11       \n",
    "dict1[4] = 99\n",
    "dict1[5] = 8 \n",
    "dict1[2] = 2\n",
    "dict1[0] = 1      \n",
    "dict1[9] = 13\n",
    "\n",
    "print(\"Original dictionary is {}\".format(dict1))\n",
    "print('dictionary sorted by key: ')\n",
    "print(sorted(dict2.items(), key=lambda x: x[0]))\n",
    "print('\\ndictionary sorted by value: ')\n",
    "print(sorted(dict1.items(), key=lambda x: x[1]))"
   ]
  },
  {
   "cell_type": "code",
   "execution_count": null,
   "id": "51c54e42",
   "metadata": {},
   "outputs": [],
   "source": []
  },
  {
   "cell_type": "code",
   "execution_count": null,
   "id": "9dbc6abe",
   "metadata": {},
   "outputs": [],
   "source": []
  },
  {
   "cell_type": "code",
   "execution_count": null,
   "id": "1f83c821",
   "metadata": {},
   "outputs": [],
   "source": []
  }
 ],
 "metadata": {
  "kernelspec": {
   "display_name": "Python 3",
   "language": "python",
   "name": "python3"
  },
  "language_info": {
   "codemirror_mode": {
    "name": "ipython",
    "version": 3
   },
   "file_extension": ".py",
   "mimetype": "text/x-python",
   "name": "python",
   "nbconvert_exporter": "python",
   "pygments_lexer": "ipython3",
   "version": "3.8.5"
  },
  "varInspector": {
   "cols": {
    "lenName": 16,
    "lenType": 16,
    "lenVar": 40
   },
   "kernels_config": {
    "python": {
     "delete_cmd_postfix": "",
     "delete_cmd_prefix": "del ",
     "library": "var_list.py",
     "varRefreshCmd": "print(var_dic_list())"
    },
    "r": {
     "delete_cmd_postfix": ") ",
     "delete_cmd_prefix": "rm(",
     "library": "var_list.r",
     "varRefreshCmd": "cat(var_dic_list()) "
    }
   },
   "types_to_exclude": [
    "module",
    "function",
    "builtin_function_or_method",
    "instance",
    "_Feature"
   ],
   "window_display": false
  }
 },
 "nbformat": 4,
 "nbformat_minor": 5
}
