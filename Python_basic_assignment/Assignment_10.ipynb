{
 "cells": [
  {
   "cell_type": "markdown",
   "id": "3ae91e38",
   "metadata": {},
   "source": [
    "1. How do you distinguish between shutil.copy() and shutil.copytree()?\n",
    "2. What function is used to rename files??\n",
    "3. What is the difference between the delete functions in the send2trash and shutil modules?\n",
    "4. ZipFile objects have a close() method just like File objects’ close() method. What ZipFile method is\n",
    "equivalent to File objects’ open() method?\n",
    "5. Create a programme that searches a folder tree for files with a certain file extension (such as .pdf\n",
    "or .jpg). Copy these files from whatever location they are in to a new folder."
   ]
  },
  {
   "cell_type": "markdown",
   "id": "ef0a7c44",
   "metadata": {},
   "source": [
    "# Answers"
   ]
  },
  {
   "cell_type": "code",
   "execution_count": 1,
   "id": "4fcd9933",
   "metadata": {},
   "outputs": [],
   "source": [
    "# Question 1 \n",
    "# The shutil.copy() function will copy a single file, \n",
    "# while shutil.copytree() will copy an entire folder, along with all its contents."
   ]
  },
  {
   "cell_type": "code",
   "execution_count": 3,
   "id": "38e2b6a2",
   "metadata": {},
   "outputs": [],
   "source": [
    "# Question 2\n",
    "##The shutil.move() function is used for renaming files, as well as moving them."
   ]
  },
  {
   "cell_type": "code",
   "execution_count": 4,
   "id": "332450a5",
   "metadata": {},
   "outputs": [],
   "source": [
    "# Question 3\n",
    "# The send2trash functions will move a file or folder to the recycle bin, \n",
    "# while shutil functions will permanently delete files and folders."
   ]
  },
  {
   "cell_type": "code",
   "execution_count": 5,
   "id": "afc2473e",
   "metadata": {},
   "outputs": [],
   "source": [
    "# Question 4\n",
    "#The zipfile.ZipFile() function is equivalent to the open() function; \n",
    "#the first argument is the filename, and the second argument is the mode to open the ZIP file in (read, write, or append)."
   ]
  },
  {
   "cell_type": "code",
   "execution_count": 7,
   "id": "3887f518",
   "metadata": {},
   "outputs": [],
   "source": [
    "# question 5\n",
    "import os, shutil\n",
    "\n",
    "def copy_files(folder, extensions, destFolder):\n",
    "    folder = os.path.abspath(folder)\n",
    "    destFolder = os.path.abspath(destFolder)\n",
    "    print('Looking in', folder, 'for files with extensions of', ', '.join(extensions))\n",
    "    for foldername, subfolders, filenames in os.walk(folder):\n",
    "        for filename in filenames:\n",
    "            name, extension = os.path.splitext(filename)\n",
    "            if extension in extensions:\n",
    "                fileAbsPath = foldername + os.path.sep + filename\n",
    "                print('Coping', fileAbsPath, 'to', destFolder)\n",
    "                shutil.copy(fileAbsPath, destFolder)\n",
    "\n"
   ]
  },
  {
   "cell_type": "code",
   "execution_count": 13,
   "id": "09aae84b",
   "metadata": {},
   "outputs": [
    {
     "data": {
      "text/plain": [
       "'D:\\\\I-Neuron\\\\0_Full_Stack_Data_Science\\\\Python_basic_assignment'"
      ]
     },
     "execution_count": 13,
     "metadata": {},
     "output_type": "execute_result"
    }
   ],
   "source": [
    "os.getcwd()"
   ]
  },
  {
   "cell_type": "code",
   "execution_count": 12,
   "id": "95c40292",
   "metadata": {},
   "outputs": [],
   "source": [
    "## creating a backup folder at D:/I-Neuron/0_Full_Stack_Data_Science\n",
    "os.mkdir('../Python_basic_assignment_bkp')"
   ]
  },
  {
   "cell_type": "code",
   "execution_count": 15,
   "id": "8470b763",
   "metadata": {},
   "outputs": [
    {
     "name": "stdout",
     "output_type": "stream",
     "text": [
      "Looking in D:\\I-Neuron\\0_Full_Stack_Data_Science\\Python_basic_assignment for files with extensions of .php, .py, .ipynb\n",
      "Coping D:\\I-Neuron\\0_Full_Stack_Data_Science\\Python_basic_assignment\\Assignment_1.ipynb to D:\\I-Neuron\\0_Full_Stack_Data_Science\\Python_basic_assignment_bkp\n",
      "Coping D:\\I-Neuron\\0_Full_Stack_Data_Science\\Python_basic_assignment\\Assignment_10.ipynb to D:\\I-Neuron\\0_Full_Stack_Data_Science\\Python_basic_assignment_bkp\n",
      "Coping D:\\I-Neuron\\0_Full_Stack_Data_Science\\Python_basic_assignment\\Assignment_2.ipynb to D:\\I-Neuron\\0_Full_Stack_Data_Science\\Python_basic_assignment_bkp\n",
      "Coping D:\\I-Neuron\\0_Full_Stack_Data_Science\\Python_basic_assignment\\Assignment_3.ipynb to D:\\I-Neuron\\0_Full_Stack_Data_Science\\Python_basic_assignment_bkp\n",
      "Coping D:\\I-Neuron\\0_Full_Stack_Data_Science\\Python_basic_assignment\\Assignment_4.ipynb to D:\\I-Neuron\\0_Full_Stack_Data_Science\\Python_basic_assignment_bkp\n",
      "Coping D:\\I-Neuron\\0_Full_Stack_Data_Science\\Python_basic_assignment\\Assignment_5.ipynb to D:\\I-Neuron\\0_Full_Stack_Data_Science\\Python_basic_assignment_bkp\n",
      "Coping D:\\I-Neuron\\0_Full_Stack_Data_Science\\Python_basic_assignment\\Assignment_6.ipynb to D:\\I-Neuron\\0_Full_Stack_Data_Science\\Python_basic_assignment_bkp\n",
      "Coping D:\\I-Neuron\\0_Full_Stack_Data_Science\\Python_basic_assignment\\Assignment_7.ipynb to D:\\I-Neuron\\0_Full_Stack_Data_Science\\Python_basic_assignment_bkp\n",
      "Coping D:\\I-Neuron\\0_Full_Stack_Data_Science\\Python_basic_assignment\\Assignment_8.ipynb to D:\\I-Neuron\\0_Full_Stack_Data_Science\\Python_basic_assignment_bkp\n",
      "Coping D:\\I-Neuron\\0_Full_Stack_Data_Science\\Python_basic_assignment\\Assignment_9.ipynb to D:\\I-Neuron\\0_Full_Stack_Data_Science\\Python_basic_assignment_bkp\n",
      "Coping D:\\I-Neuron\\0_Full_Stack_Data_Science\\Python_basic_assignment\\.ipynb_checkpoints\\Assignment_10-checkpoint.ipynb to D:\\I-Neuron\\0_Full_Stack_Data_Science\\Python_basic_assignment_bkp\n",
      "Coping D:\\I-Neuron\\0_Full_Stack_Data_Science\\Python_basic_assignment\\.ipynb_checkpoints\\Assignment_3-checkpoint.ipynb to D:\\I-Neuron\\0_Full_Stack_Data_Science\\Python_basic_assignment_bkp\n",
      "Coping D:\\I-Neuron\\0_Full_Stack_Data_Science\\Python_basic_assignment\\.ipynb_checkpoints\\Assignment_4-checkpoint.ipynb to D:\\I-Neuron\\0_Full_Stack_Data_Science\\Python_basic_assignment_bkp\n",
      "Coping D:\\I-Neuron\\0_Full_Stack_Data_Science\\Python_basic_assignment\\.ipynb_checkpoints\\Assignment_5-checkpoint.ipynb to D:\\I-Neuron\\0_Full_Stack_Data_Science\\Python_basic_assignment_bkp\n",
      "Coping D:\\I-Neuron\\0_Full_Stack_Data_Science\\Python_basic_assignment\\.ipynb_checkpoints\\Assignment_6-checkpoint.ipynb to D:\\I-Neuron\\0_Full_Stack_Data_Science\\Python_basic_assignment_bkp\n",
      "Coping D:\\I-Neuron\\0_Full_Stack_Data_Science\\Python_basic_assignment\\.ipynb_checkpoints\\Assignment_7-checkpoint.ipynb to D:\\I-Neuron\\0_Full_Stack_Data_Science\\Python_basic_assignment_bkp\n",
      "Coping D:\\I-Neuron\\0_Full_Stack_Data_Science\\Python_basic_assignment\\.ipynb_checkpoints\\Assignment_8-checkpoint.ipynb to D:\\I-Neuron\\0_Full_Stack_Data_Science\\Python_basic_assignment_bkp\n",
      "Coping D:\\I-Neuron\\0_Full_Stack_Data_Science\\Python_basic_assignment\\.ipynb_checkpoints\\Assignment_9-checkpoint.ipynb to D:\\I-Neuron\\0_Full_Stack_Data_Science\\Python_basic_assignment_bkp\n"
     ]
    }
   ],
   "source": [
    "#included .ipynb for testing purpose as im not having any pdf or jpg in my current folders.\n",
    "extensions = ['.pdf', '.jpg','.ipynb']\n",
    "folder = 'D:/I-Neuron/0_Full_Stack_Data_Science/Python_basic_assignment/'\n",
    "destFolder = 'D:/I-Neuron/0_Full_Stack_Data_Science/Python_basic_assignment_bkp/'\n",
    "copy_files(folder, extensions, destFolder)"
   ]
  },
  {
   "cell_type": "code",
   "execution_count": null,
   "id": "8a0cfc2e",
   "metadata": {},
   "outputs": [],
   "source": []
  }
 ],
 "metadata": {
  "kernelspec": {
   "display_name": "Python 3",
   "language": "python",
   "name": "python3"
  },
  "language_info": {
   "codemirror_mode": {
    "name": "ipython",
    "version": 3
   },
   "file_extension": ".py",
   "mimetype": "text/x-python",
   "name": "python",
   "nbconvert_exporter": "python",
   "pygments_lexer": "ipython3",
   "version": "3.8.5"
  },
  "varInspector": {
   "cols": {
    "lenName": 16,
    "lenType": 16,
    "lenVar": 40
   },
   "kernels_config": {
    "python": {
     "delete_cmd_postfix": "",
     "delete_cmd_prefix": "del ",
     "library": "var_list.py",
     "varRefreshCmd": "print(var_dic_list())"
    },
    "r": {
     "delete_cmd_postfix": ") ",
     "delete_cmd_prefix": "rm(",
     "library": "var_list.r",
     "varRefreshCmd": "cat(var_dic_list()) "
    }
   },
   "types_to_exclude": [
    "module",
    "function",
    "builtin_function_or_method",
    "instance",
    "_Feature"
   ],
   "window_display": false
  }
 },
 "nbformat": 4,
 "nbformat_minor": 5
}
