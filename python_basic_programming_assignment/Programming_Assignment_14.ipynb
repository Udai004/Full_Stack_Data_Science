{
 "cells": [
  {
   "cell_type": "markdown",
   "id": "9110a7a2",
   "metadata": {},
   "source": [
    "Question 1:\n",
    "Define a class with a generator which can iterate the numbers, which are divisible by\n",
    "7, between a given range 0 and n.\n",
    "\n",
    "Question 2:\n",
    "Write a program to compute the frequency of the words from the input. The output\n",
    "should output after sorting the key alphanumerically.\n",
    "Suppose the following input is supplied to the program:\n",
    "New to Python or choosing between Python 2 and Python 3? Read Python 2 or\n",
    "Python 3.\n",
    "Then, the output should be:\n",
    "2:2\n",
    "3.:1\n",
    "3?:1\n",
    "New:1\n",
    "Python:5\n",
    "Read:1\n",
    "and:1\n",
    "between:1\n",
    "choosing:1\n",
    "or:2\n",
    "to:1\n",
    "\n",
    "Question 3:\n",
    "\n",
    "Define a class Person and its two child classes: Male and Female. All classes have a\n",
    "method \"getGender\" which can print \"Male\" for Male class and \"Female\" for Female\n",
    "class.\n",
    "\n",
    "Question 4:\n",
    "Please write a program to generate all sentences where subject is in [\"I\", \"You\"] and\n",
    "verb is in [\"Play\", \"Love\"] and the object is in [\"Hockey\",\"Football\"].\n",
    "\n",
    "Question 5:\n",
    "Please write a program to compress and decompress the string \"hello world!hello\n",
    "world!hello world!hello world!\".\n",
    "\n",
    "Question 6:\n",
    "Please write a binary search function which searches an item in a sorted list. The\n",
    "function should return the index of element to be searched in the list."
   ]
  },
  {
   "cell_type": "code",
   "execution_count": 1,
   "id": "7d2aa6d4",
   "metadata": {},
   "outputs": [
    {
     "name": "stdout",
     "output_type": "stream",
     "text": [
      "Please enter a number: 50\n",
      "0\n",
      "7\n",
      "14\n",
      "21\n",
      "28\n",
      "35\n",
      "42\n",
      "49\n"
     ]
    }
   ],
   "source": [
    "#1\n",
    "class Divby7_gen:\n",
    "    def __init__(self):\n",
    "        n = int(input('Please enter a number: '))\n",
    "        self.n = n\n",
    "        \n",
    "    def divby7_fun(self):\n",
    "        for i in range(0,self.n):\n",
    "            if i%7 == 0:\n",
    "                yield i\n",
    "                \n",
    "divby7_obj = Divby7_gen()\n",
    "table_7 = divby7_obj.divby7_fun()\n",
    "\n",
    "for num in table_7:\n",
    "    print(num)"
   ]
  },
  {
   "cell_type": "code",
   "execution_count": 2,
   "id": "b47de4ba",
   "metadata": {},
   "outputs": [
    {
     "name": "stdout",
     "output_type": "stream",
     "text": [
      "Eneter a paragraph: New to Python or choosing between Python 2 and Python 3? Read Python 2 or Python 3.\n",
      "['2', '3.', '3?', 'New', 'Python', 'Read', 'and', 'between', 'choosing', 'or', 'to']\n",
      "{'2': 2, '3.': 1, '3?': 1, 'New': 1, 'Python': 5, 'Read': 1, 'and': 1, 'between': 1, 'choosing': 1, 'or': 2, 'to': 1}\n"
     ]
    }
   ],
   "source": [
    "#2\n",
    "class SortWord:\n",
    "    def __init__(self):\n",
    "        paragraph = input('Eneter a paragraph: ')\n",
    "        self.para = paragraph.split()\n",
    "        self.uniqueList = list(set(self.para))\n",
    "        self.sorted_unique_para = sorted(self.uniqueList, key = str)\n",
    "        self.countDict = {}\n",
    "        print(self.sorted_unique_para)\n",
    "    \n",
    "    def sorted_word_list(self):        \n",
    "        for word in self.sorted_unique_para:\n",
    "            self.countDict[word] = self.para.count(word)\n",
    "        return self.countDict\n",
    "            \n",
    "obj = SortWord()\n",
    "print(obj.sorted_word_list())"
   ]
  },
  {
   "cell_type": "code",
   "execution_count": 3,
   "id": "dc1a58d9",
   "metadata": {},
   "outputs": [
    {
     "name": "stdout",
     "output_type": "stream",
     "text": [
      "Male\n",
      "Female\n",
      "--\n"
     ]
    }
   ],
   "source": [
    "#3\n",
    "class Person:\n",
    "    def __init__(self):\n",
    "        pass\n",
    "    def getGender(self):\n",
    "        print('--')\n",
    "class Male(Person):\n",
    "    def __init__(self):\n",
    "        pass\n",
    "    def getGender(self):\n",
    "        print('Male')\n",
    "class Female(Person):\n",
    "    def __init__(self):\n",
    "        pass\n",
    "    def getGender(self):\n",
    "        print('Female')\n",
    "        \n",
    "maleObj = Male()\n",
    "maleObj.getGender()\n",
    "femaleObj = Female()\n",
    "femaleObj.getGender()\n",
    "personObj = Person()\n",
    "personObj.getGender()"
   ]
  },
  {
   "cell_type": "code",
   "execution_count": 4,
   "id": "3fdcaaa3",
   "metadata": {},
   "outputs": [
    {
     "name": "stdout",
     "output_type": "stream",
     "text": [
      "I Play Hockey.\n",
      "I Play Football.\n",
      "I Love Hockey.\n",
      "I Love Football.\n",
      "You Play Hockey.\n",
      "You Play Football.\n",
      "You Love Hockey.\n",
      "You Love Football.\n"
     ]
    }
   ],
   "source": [
    "#4\n",
    "class Senetence:\n",
    "    def __init__(self):\n",
    "        self.subject = [\"I\", \"You\"]\n",
    "        self.verb = [\"Play\", \"Love\"]\n",
    "        self.object = [\"Hockey\",\"Football\"]\n",
    "    def genSentence(self):\n",
    "        for i in self.subject:\n",
    "            for j in self.verb:\n",
    "                for k in self.object:\n",
    "                    yield (\"%s %s %s.\" %(i,j,k))\n",
    "                    \n",
    "sentenceObj = Senetence()\n",
    "sentences = sentenceObj.genSentence()\n",
    "for sentence in sentences:\n",
    "    print(sentence)"
   ]
  },
  {
   "cell_type": "code",
   "execution_count": 5,
   "id": "435b6012",
   "metadata": {},
   "outputs": [
    {
     "name": "stdout",
     "output_type": "stream",
     "text": [
      "b'x\\x9c\\xcbH\\xcd\\xc9\\xc9W(\\xcf/\\xcaIQ\\xcc \\x82\\r\\x00\\xbd[\\x11\\xf5'\n",
      "b'hello world!hello world!hello world!hello world!'\n"
     ]
    }
   ],
   "source": [
    "#5\n",
    "import zlib\n",
    "string = b\"hello world!hello world!hello world!hello world!\"\n",
    "compressed_String = zlib.compress(string)\n",
    "print(compressed_String)\n",
    "decompressed_String = zlib.decompress(compressed_String)\n",
    "print(decompressed_String)"
   ]
  },
  {
   "cell_type": "code",
   "execution_count": 6,
   "id": "6499e7f0",
   "metadata": {},
   "outputs": [
    {
     "name": "stdout",
     "output_type": "stream",
     "text": [
      "Element is present at index 4\n"
     ]
    }
   ],
   "source": [
    "#6\n",
    "class BinarySearch:\n",
    "    def __init__(self):\n",
    "        self.array = [ 5, 10, 15, 20, 25 ]\n",
    "        self.minId = 0\n",
    "        self.maxId = len(self.array)-1\n",
    "        \n",
    "    def binary_search(self,x):\n",
    "        # Check base case\n",
    "        if self.maxId >= self.minId:\n",
    "\n",
    "            mid = (self.maxId + self.minId) // 2\n",
    "\n",
    "            # If element is present at the middle itself\n",
    "            if self.array[mid] == x:\n",
    "                return mid\n",
    "\n",
    "            # If element is smaller than mid, then it can only\n",
    "            # be present in left subarray\n",
    "            elif self.array[mid] > x:\n",
    "                self.maxId = mid - 1\n",
    "                return self.binary_search(x)\n",
    "\n",
    "            # Else the element can only be present in right subarray\n",
    "            else:\n",
    "                self.minId = mid + 1\n",
    "                return self.binary_search(x)\n",
    "\n",
    "        else:\n",
    "            # Element is not present in the array\n",
    "            return -1\n",
    "        \n",
    "binarySerach_obj = BinarySearch()\n",
    "# Function call\n",
    "item = 25\n",
    "result = binarySerach_obj.binary_search(item)\n",
    " \n",
    "if result != -1:\n",
    "    print(\"Element is present at index\", str(result))\n",
    "else:\n",
    "    print(\"Element is not present in array\")"
   ]
  },
  {
   "cell_type": "code",
   "execution_count": null,
   "id": "90847c18",
   "metadata": {},
   "outputs": [],
   "source": []
  },
  {
   "cell_type": "code",
   "execution_count": null,
   "id": "4ad71f6c",
   "metadata": {},
   "outputs": [],
   "source": []
  }
 ],
 "metadata": {
  "kernelspec": {
   "display_name": "Python 3",
   "language": "python",
   "name": "python3"
  },
  "language_info": {
   "codemirror_mode": {
    "name": "ipython",
    "version": 3
   },
   "file_extension": ".py",
   "mimetype": "text/x-python",
   "name": "python",
   "nbconvert_exporter": "python",
   "pygments_lexer": "ipython3",
   "version": "3.8.5"
  },
  "varInspector": {
   "cols": {
    "lenName": 16,
    "lenType": 16,
    "lenVar": 40
   },
   "kernels_config": {
    "python": {
     "delete_cmd_postfix": "",
     "delete_cmd_prefix": "del ",
     "library": "var_list.py",
     "varRefreshCmd": "print(var_dic_list())"
    },
    "r": {
     "delete_cmd_postfix": ") ",
     "delete_cmd_prefix": "rm(",
     "library": "var_list.r",
     "varRefreshCmd": "cat(var_dic_list()) "
    }
   },
   "types_to_exclude": [
    "module",
    "function",
    "builtin_function_or_method",
    "instance",
    "_Feature"
   ],
   "window_display": false
  }
 },
 "nbformat": 4,
 "nbformat_minor": 5
}
