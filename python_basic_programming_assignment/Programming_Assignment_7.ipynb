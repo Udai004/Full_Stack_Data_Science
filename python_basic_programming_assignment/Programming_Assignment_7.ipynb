{
 "cells": [
  {
   "cell_type": "markdown",
   "id": "517ccc43",
   "metadata": {},
   "source": [
    "1. Write a Python Program to find sum of array?\n",
    "2. Write a Python Program to find largest element in an array?\n",
    "3. Write a Python Program for array rotation?\n",
    "4. Write a Python Program to Split the array and add the first part to the end?\n",
    "5. Write a Python Program to check if given array is Monotonic?"
   ]
  },
  {
   "cell_type": "code",
   "execution_count": 1,
   "id": "1436b44b",
   "metadata": {},
   "outputs": [
    {
     "name": "stdout",
     "output_type": "stream",
     "text": [
      "21\n"
     ]
    }
   ],
   "source": [
    "#1.\n",
    "sample_list = [1,2,3,4,5,6]\n",
    "sum = 0\n",
    "for i in sample_list:\n",
    "    sum = sum + i\n",
    "print(sum)"
   ]
  },
  {
   "cell_type": "code",
   "execution_count": 2,
   "id": "1c4576d5",
   "metadata": {},
   "outputs": [
    {
     "name": "stdout",
     "output_type": "stream",
     "text": [
      "7\n"
     ]
    }
   ],
   "source": [
    "#2.\n",
    "sample_list = [1,2,3,7,6]\n",
    "max = sample_list[0]\n",
    "for i in sample_list:\n",
    "    if max < i:\n",
    "        max = i\n",
    "print(max)"
   ]
  },
  {
   "cell_type": "code",
   "execution_count": 3,
   "id": "bd9807c7",
   "metadata": {},
   "outputs": [
    {
     "name": "stdout",
     "output_type": "stream",
     "text": [
      "enter elements of a array with space: 1 2 3 4 5 6 7 8 9\n",
      "enter the offset: 2\n",
      "array after rotation:  ['3', '4', '5', '6', '7', '8', '9', '1', '2']\n"
     ]
    }
   ],
   "source": [
    "#3.\n",
    "array = input('enter elements of a array with space: ').split()\n",
    "offset = int(input('enter the offset: '))\n",
    "new_array = array[offset:]\n",
    "new_array = new_array + array[:offset]\n",
    "print('array after rotation: ',new_array)"
   ]
  },
  {
   "cell_type": "code",
   "execution_count": 4,
   "id": "7a8dacd6",
   "metadata": {},
   "outputs": [
    {
     "name": "stdout",
     "output_type": "stream",
     "text": [
      "enter elements of a array with space: 1 2 3 4 5\n",
      "new array is:  ['3', '4', '5', '1', '2']\n"
     ]
    }
   ],
   "source": [
    "#4.\n",
    "array = input('enter elements of a array with space: ').split()\n",
    "half = int(len(array)/2)\n",
    "new_array1 = array[:half]\n",
    "new_array2 = array[half:]\n",
    "new_array2 = new_array2 + new_array1\n",
    "print('new array is: ',new_array2)"
   ]
  },
  {
   "cell_type": "code",
   "execution_count": 5,
   "id": "78c089fa",
   "metadata": {},
   "outputs": [
    {
     "name": "stdout",
     "output_type": "stream",
     "text": [
      "enter elements of a array with space: 1 2 5 3 5 2 1\n",
      "array is not Monotonic\n"
     ]
    }
   ],
   "source": [
    "#5.\n",
    "array = input('enter elements of a array with space: ').split()\n",
    "flag = False\n",
    "for i in range(len(array)-1):\n",
    "    if array[i] >= array[i+1]:\n",
    "        flag = True\n",
    "    else:\n",
    "        flag = False\n",
    "        break\n",
    "if flag == False:       \n",
    "    for i in range(len(array)-1):\n",
    "        if array[i] <= array[i+1]:\n",
    "            flag = True\n",
    "        else:\n",
    "            flag = False\n",
    "            break\n",
    "if flag == True:\n",
    "    print('array is Monotonic')\n",
    "else:\n",
    "    print('array is not Monotonic')\n",
    "    "
   ]
  },
  {
   "cell_type": "code",
   "execution_count": null,
   "id": "a13cef17",
   "metadata": {},
   "outputs": [],
   "source": []
  },
  {
   "cell_type": "code",
   "execution_count": null,
   "id": "f5fcd6ba",
   "metadata": {},
   "outputs": [],
   "source": []
  },
  {
   "cell_type": "code",
   "execution_count": null,
   "id": "c8a70380",
   "metadata": {},
   "outputs": [],
   "source": []
  },
  {
   "cell_type": "code",
   "execution_count": null,
   "id": "561a4591",
   "metadata": {},
   "outputs": [],
   "source": []
  },
  {
   "cell_type": "code",
   "execution_count": null,
   "id": "ed761ddc",
   "metadata": {},
   "outputs": [],
   "source": []
  },
  {
   "cell_type": "code",
   "execution_count": null,
   "id": "ea2301ca",
   "metadata": {},
   "outputs": [],
   "source": []
  },
  {
   "cell_type": "code",
   "execution_count": null,
   "id": "338cacc2",
   "metadata": {},
   "outputs": [],
   "source": []
  },
  {
   "cell_type": "code",
   "execution_count": null,
   "id": "bc773e23",
   "metadata": {},
   "outputs": [],
   "source": []
  },
  {
   "cell_type": "code",
   "execution_count": null,
   "id": "af599b8d",
   "metadata": {},
   "outputs": [],
   "source": []
  }
 ],
 "metadata": {
  "kernelspec": {
   "display_name": "Python 3",
   "language": "python",
   "name": "python3"
  },
  "language_info": {
   "codemirror_mode": {
    "name": "ipython",
    "version": 3
   },
   "file_extension": ".py",
   "mimetype": "text/x-python",
   "name": "python",
   "nbconvert_exporter": "python",
   "pygments_lexer": "ipython3",
   "version": "3.8.5"
  },
  "varInspector": {
   "cols": {
    "lenName": 16,
    "lenType": 16,
    "lenVar": 40
   },
   "kernels_config": {
    "python": {
     "delete_cmd_postfix": "",
     "delete_cmd_prefix": "del ",
     "library": "var_list.py",
     "varRefreshCmd": "print(var_dic_list())"
    },
    "r": {
     "delete_cmd_postfix": ") ",
     "delete_cmd_prefix": "rm(",
     "library": "var_list.r",
     "varRefreshCmd": "cat(var_dic_list()) "
    }
   },
   "types_to_exclude": [
    "module",
    "function",
    "builtin_function_or_method",
    "instance",
    "_Feature"
   ],
   "window_display": false
  }
 },
 "nbformat": 4,
 "nbformat_minor": 5
}
