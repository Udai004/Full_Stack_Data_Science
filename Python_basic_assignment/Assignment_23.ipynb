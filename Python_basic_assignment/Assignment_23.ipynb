{
 "cells": [
  {
   "cell_type": "markdown",
   "id": "bb44143d",
   "metadata": {},
   "source": [
    "1. What is the result of the code, and why?\n",
    ">>> def func(a, b=6, c=8):\n",
    "print(a, b, c)\n",
    ">>> func(1, 2)\n",
    "2. What is the result of this code, and why?\n",
    ">>> def func(a, b, c=5):\n",
    "print(a, b, c)\n",
    ">>> func(1, c=3, b=2)\n",
    "3. How about this code: what is its result, and why?\n",
    ">>> def func(a, *pargs):\n",
    "print(a, pargs)\n",
    ">>> func(1, 2, 3)\n",
    "4. What does this code print, and why?\n",
    ">>> def func(a, **kargs):\n",
    "print(a, kargs)\n",
    ">>> func(a=1, c=3, b=2)\n",
    "5. What gets printed by this, and explain?\n",
    ">>> def func(a, b, c=8, d=5): print(a, b, c, d)\n",
    ">>> func(1, *(5, 6))\n",
    "6. what is the result of this, and explain?\n",
    ">>> def func(a, b, c): a = 2; b[0] = &#39;x&#39;; c[&#39;a&#39;] = &#39;y&#39;\n",
    ">>> l=1; m=[1]; n={&#39;a&#39;:0}\n",
    ">>> func(l, m, n)\n",
    "\n",
    ">>> l, m, n"
   ]
  },
  {
   "cell_type": "markdown",
   "id": "e8c066f8",
   "metadata": {},
   "source": [
    "# Answers\n"
   ]
  },
  {
   "cell_type": "code",
   "execution_count": 8,
   "id": "cf0ca8fb",
   "metadata": {},
   "outputs": [
    {
     "name": "stdout",
     "output_type": "stream",
     "text": [
      "1 2 8\n"
     ]
    }
   ],
   "source": [
    "#1.\n",
    "# The result is 1 2 8. \n",
    "# In func(1, 2), the parameter a gets the value 1, the parameter b gets the value 2 and c gets the default value of 8.\n",
    "def func(a, b=6, c=8):\n",
    "    print(a, b, c) \n",
    "func(1, 2)"
   ]
  },
  {
   "cell_type": "code",
   "execution_count": 9,
   "id": "d6744476",
   "metadata": {},
   "outputs": [
    {
     "name": "stdout",
     "output_type": "stream",
     "text": [
      "1 2 3\n"
     ]
    }
   ],
   "source": [
    "#2.\n",
    "# The result is 1 2 3. \n",
    "# In func(1, c=3, b=2), the parameter a gets the value 1, the parameter b gets the value 2 and c gets the value of 3\n",
    "def func(a, b, c=5): \n",
    "    print(a, b, c) \n",
    "func(1, c=3, b=2)"
   ]
  },
  {
   "cell_type": "code",
   "execution_count": 10,
   "id": "5cc3da91",
   "metadata": {},
   "outputs": [
    {
     "name": "stdout",
     "output_type": "stream",
     "text": [
      "1 (2, 3)\n"
     ]
    }
   ],
   "source": [
    "#3.\n",
    "# The result is 1 (2, 3). \n",
    "# This is due to pargs passes variable number of \n",
    "# non-keyworded arguments list and on which operation of the list can be performed.\n",
    "def func(a, *pargs): \n",
    "    print(a, pargs) \n",
    "func(1, 2, 3)"
   ]
  },
  {
   "cell_type": "code",
   "execution_count": 11,
   "id": "6f9eb1e4",
   "metadata": {},
   "outputs": [
    {
     "name": "stdout",
     "output_type": "stream",
     "text": [
      "1 {'c': 3, 'b': 2}\n"
     ]
    }
   ],
   "source": [
    "#4.\n",
    "# The result is 1 {'c': 3, 'b': 2}. \n",
    "# This is due to kargs passes variable number of keyword arguments \n",
    "# dictionary to function on which operation of a dictionary can be performed.\n",
    "def func(a, **kargs): \n",
    "    print(a, kargs) \n",
    "func(a=1, c=3, b=2)"
   ]
  },
  {
   "cell_type": "code",
   "execution_count": 12,
   "id": "362f2f6f",
   "metadata": {},
   "outputs": [
    {
     "name": "stdout",
     "output_type": "stream",
     "text": [
      "1 5 6 5\n"
     ]
    }
   ],
   "source": [
    "#5.\n",
    "# The result is 1 5 6 5. In func(1, *(5,6)), \n",
    "# the parameter a gets the value 1, the parameter b gets the value 5, \n",
    "# the parameter c gets the value 6 and d gets the value of 5.\n",
    "\n",
    "def func(a, b, c=8, d=5): \n",
    "    print(a, b, c, d) \n",
    "func(1, *(5, 6))"
   ]
  },
  {
   "cell_type": "code",
   "execution_count": 14,
   "id": "edc24b10",
   "metadata": {},
   "outputs": [],
   "source": [
    "#6.\n",
    "# Process finished with exit code 0 is the result because we not call print function hence nothing is displayed as a result.\n",
    "def func(a, b, c): \n",
    "    a = 2\n",
    "    b[0] = 'x'\n",
    "    c['a'] = 'y' \n",
    "l=1\n",
    "m=[1]\n",
    "n={'a':0} \n",
    "func(l, m, n)"
   ]
  }
 ],
 "metadata": {
  "kernelspec": {
   "display_name": "Python 3",
   "language": "python",
   "name": "python3"
  },
  "language_info": {
   "codemirror_mode": {
    "name": "ipython",
    "version": 3
   },
   "file_extension": ".py",
   "mimetype": "text/x-python",
   "name": "python",
   "nbconvert_exporter": "python",
   "pygments_lexer": "ipython3",
   "version": "3.8.5"
  },
  "varInspector": {
   "cols": {
    "lenName": 16,
    "lenType": 16,
    "lenVar": 40
   },
   "kernels_config": {
    "python": {
     "delete_cmd_postfix": "",
     "delete_cmd_prefix": "del ",
     "library": "var_list.py",
     "varRefreshCmd": "print(var_dic_list())"
    },
    "r": {
     "delete_cmd_postfix": ") ",
     "delete_cmd_prefix": "rm(",
     "library": "var_list.r",
     "varRefreshCmd": "cat(var_dic_list()) "
    }
   },
   "types_to_exclude": [
    "module",
    "function",
    "builtin_function_or_method",
    "instance",
    "_Feature"
   ],
   "window_display": false
  }
 },
 "nbformat": 4,
 "nbformat_minor": 5
}
