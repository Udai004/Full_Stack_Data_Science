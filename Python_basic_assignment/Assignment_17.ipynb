{
 "cells": [
  {
   "cell_type": "markdown",
   "id": "bb44143d",
   "metadata": {},
   "source": [
    "1. Assign the value 7 to the variable guess_me. Then, write the conditional tests (if, else, and elif) to\n",
    "print the string 'too low' if guess_me is less than 7, 'too high' if greater than 7, and 'just right' if equal\n",
    "to 7.\n",
    "2. Assign the value 7 to the variable guess_me and the value 1 to the variable start. Write a while\n",
    "loop that compares start with guess_me. Print too low if start is less than guess me. If start equals\n",
    "guess_me, print 'found it!' and exit the loop. If start is greater than guess_me, print 'oops' and exit\n",
    "the loop. Increment start at the end of the loop.\n",
    "3. Print the following values of the list [3, 2, 1, 0] using a for loop.\n",
    "4. Use a list comprehension to make a list of the even numbers in range(10)\n",
    "5. Use a dictionary comprehension to create the dictionary squares. Use range(10) to return the\n",
    "keys, and use the square of each key as its value.\n",
    "6. Construct the set odd from the odd numbers in the range using a set comprehension (10).\n",
    "7. Use a generator comprehension to return the string 'Got ' and a number for the numbers in\n",
    "range(10). Iterate through this by using a for loop.\n",
    "8. Define a function called good that returns the list ['Harry', 'Ron', 'Hermione'].\n",
    "9. Define a generator function called get_odds that returns the odd numbers from range(10). Use a\n",
    "for loop to find and print the third value returned.\n",
    "10. Define an exception called OopsException. Raise this exception to see what happens. Then write\n",
    "the code to catch this exception and print 'Caught an oops'.\n",
    "11. Use zip() to make a dictionary called movies that pairs these lists: titles = ['Creature of Habit',\n",
    "'Crewel Fate'] and plots = ['A nun turns into a monster', 'A haunted yarn shop']."
   ]
  },
  {
   "cell_type": "markdown",
   "id": "e8c066f8",
   "metadata": {},
   "source": [
    "# Answers\n"
   ]
  },
  {
   "cell_type": "code",
   "execution_count": 1,
   "id": "cf0ca8fb",
   "metadata": {},
   "outputs": [
    {
     "name": "stdout",
     "output_type": "stream",
     "text": [
      "just right\n"
     ]
    }
   ],
   "source": [
    "#1.\n",
    "guess_me = 7\n",
    "if guess_me < 7:\n",
    "    print('too low')\n",
    "elif guess_me > 7:\n",
    "    print('too high')\n",
    "else:\n",
    "    print('just right')\n"
   ]
  },
  {
   "cell_type": "code",
   "execution_count": 2,
   "id": "d6744476",
   "metadata": {},
   "outputs": [
    {
     "name": "stdout",
     "output_type": "stream",
     "text": [
      "too low\n",
      "too low\n",
      "too low\n",
      "too low\n",
      "too low\n",
      "too low\n",
      "found it!\n"
     ]
    }
   ],
   "source": [
    "#2.\n",
    "guess_me = 7\n",
    "start = 1\n",
    "while True:\n",
    "    if start < guess_me:\n",
    "        print('too low')\n",
    "    elif start == guess_me:\n",
    "        print('found it!')\n",
    "        break\n",
    "    elif start > guess_me:\n",
    "        print('oops')\n",
    "        break\n",
    "    start += 1\n"
   ]
  },
  {
   "cell_type": "code",
   "execution_count": 3,
   "id": "5cc3da91",
   "metadata": {},
   "outputs": [
    {
     "name": "stdout",
     "output_type": "stream",
     "text": [
      "3\n",
      "2\n",
      "1\n",
      "0\n"
     ]
    }
   ],
   "source": [
    "#3.\n",
    "for value in [3,2,1,0]:\n",
    "         print (value)\n"
   ]
  },
  {
   "cell_type": "code",
   "execution_count": 4,
   "id": "6f9eb1e4",
   "metadata": {},
   "outputs": [
    {
     "name": "stdout",
     "output_type": "stream",
     "text": [
      "[0, 2, 4, 6, 8]\n"
     ]
    }
   ],
   "source": [
    "#4.\n",
    "even = [number for number in range(10) if number % 2 == 0]\n",
    "print(even)\n"
   ]
  },
  {
   "cell_type": "code",
   "execution_count": 5,
   "id": "362f2f6f",
   "metadata": {},
   "outputs": [
    {
     "name": "stdout",
     "output_type": "stream",
     "text": [
      "{0: 0, 1: 1, 2: 4, 3: 9, 4: 16, 5: 25, 6: 36, 7: 49, 8: 64, 9: 81}\n"
     ]
    }
   ],
   "source": [
    "#5.\n",
    "squares = {key: key*key for key in range(10)}\n",
    "print (squares)\n"
   ]
  },
  {
   "cell_type": "code",
   "execution_count": 6,
   "id": "edc24b10",
   "metadata": {},
   "outputs": [
    {
     "name": "stdout",
     "output_type": "stream",
     "text": [
      "{1, 3, 5, 7, 9}\n"
     ]
    }
   ],
   "source": [
    "#6.\n",
    "odd = {number for number in range(10) if number % 2 == 1}\n",
    "print (odd)\n"
   ]
  },
  {
   "cell_type": "code",
   "execution_count": 7,
   "id": "94956143",
   "metadata": {},
   "outputs": [
    {
     "name": "stdout",
     "output_type": "stream",
     "text": [
      "Got 0\n",
      "Got 1\n",
      "Got 2\n",
      "Got 3\n",
      "Got 4\n",
      "Got 5\n",
      "Got 6\n",
      "Got 7\n",
      "Got 8\n",
      "Got 9\n"
     ]
    }
   ],
   "source": [
    "#7.\n",
    "for thing in ('Got %s' % number for number in range(10)):\n",
    "         print(thing)\n"
   ]
  },
  {
   "cell_type": "code",
   "execution_count": 8,
   "id": "9d0c2962",
   "metadata": {},
   "outputs": [
    {
     "name": "stdout",
     "output_type": "stream",
     "text": [
      "['Harry', 'Ron', 'Hermione']\n"
     ]
    }
   ],
   "source": [
    "#8.\n",
    "def good():\n",
    "         return ['Harry', 'Ron', 'Hermione']\n",
    "print(good())\n"
   ]
  },
  {
   "cell_type": "code",
   "execution_count": 18,
   "id": "156fd1a4",
   "metadata": {},
   "outputs": [],
   "source": [
    "#9.\n",
    "def get_odds():\n",
    "    for number in range(1, 10, 2):\n",
    "        yield number\n",
    "        \n",
    "    \n"
   ]
  },
  {
   "cell_type": "code",
   "execution_count": 19,
   "id": "7aa2e7c1",
   "metadata": {},
   "outputs": [
    {
     "name": "stdout",
     "output_type": "stream",
     "text": [
      "The third odd number is 5\n"
     ]
    }
   ],
   "source": [
    "count = 1\n",
    "for number in get_odds():\n",
    "        if count == 3:\n",
    "            print(\"The third odd number is\", number)\n",
    "            break\n",
    "        count += 1"
   ]
  },
  {
   "cell_type": "code",
   "execution_count": 23,
   "id": "8025e99e",
   "metadata": {},
   "outputs": [
    {
     "name": "stdout",
     "output_type": "stream",
     "text": [
      "Enter your age: 28\n",
      "Entered Age is even\n"
     ]
    }
   ],
   "source": [
    "#10.\n",
    "def enterAge(age):\n",
    "    if age<0:\n",
    "        raise ValueError('Caught an oops')\n",
    "    if age % 2 ==0:\n",
    "        print('Entered Age is even')\n",
    "    else:\n",
    "        print('Entered Age is odd')\n",
    "try:\n",
    "    num = int(input('Enter your age: '))\n",
    "    enterAge(num)\n",
    "except ValueError:\n",
    "    print('Caught an oops')\n"
   ]
  },
  {
   "cell_type": "code",
   "execution_count": 24,
   "id": "5d7109f4",
   "metadata": {},
   "outputs": [
    {
     "name": "stdout",
     "output_type": "stream",
     "text": [
      "{'Creature of Habit': 'A nun turns into a monster', 'Crewel Fate': 'A haunted yarn shop'}\n"
     ]
    }
   ],
   "source": [
    "#11.\n",
    "titles = ['Creature of Habit', 'Crewel Fate']\n",
    "plots = ['A nun turns into a monster', 'A haunted yarn shop']\n",
    "movies = dict(zip(titles, plots))\n",
    "print(movies)\n"
   ]
  }
 ],
 "metadata": {
  "kernelspec": {
   "display_name": "Python 3",
   "language": "python",
   "name": "python3"
  },
  "language_info": {
   "codemirror_mode": {
    "name": "ipython",
    "version": 3
   },
   "file_extension": ".py",
   "mimetype": "text/x-python",
   "name": "python",
   "nbconvert_exporter": "python",
   "pygments_lexer": "ipython3",
   "version": "3.8.5"
  },
  "varInspector": {
   "cols": {
    "lenName": 16,
    "lenType": 16,
    "lenVar": 40
   },
   "kernels_config": {
    "python": {
     "delete_cmd_postfix": "",
     "delete_cmd_prefix": "del ",
     "library": "var_list.py",
     "varRefreshCmd": "print(var_dic_list())"
    },
    "r": {
     "delete_cmd_postfix": ") ",
     "delete_cmd_prefix": "rm(",
     "library": "var_list.r",
     "varRefreshCmd": "cat(var_dic_list()) "
    }
   },
   "types_to_exclude": [
    "module",
    "function",
    "builtin_function_or_method",
    "instance",
    "_Feature"
   ],
   "window_display": false
  }
 },
 "nbformat": 4,
 "nbformat_minor": 5
}
